{
 "cells": [
  {
   "cell_type": "markdown",
   "id": "801a0d07-d562-4192-b45f-4527e9bf0af9",
   "metadata": {},
   "source": [
    "# SaaS Subscription and Churn Analysis"
   ]
  },
  {
   "cell_type": "markdown",
   "id": "42d06265-6596-4523-a253-b022908671f8",
   "metadata": {},
   "source": [
    "## What is SaaS?\n",
    "\n",
    "SaaS (Software as a Service) is a cloud-based software delivery model where applications are hosted online and accessed by users via the internet, typically through a subscription model.\n",
    "Instead of installing and maintaining software on individual computers, customers can use SaaS platforms anytime, anywhere, by simply logging in.\n",
    "Examples include Netflix, Zoom, Google Workspace, and Slack.\n",
    "\n"
   ]
  },
  {
   "cell_type": "markdown",
   "id": "d0398f55-0fc3-4cd9-a2ca-41801b1dcacd",
   "metadata": {},
   "source": [
    "## Why Churn Analysis Matters in SaaS?\n",
    "\n",
    "Churn refers to when customers stop using a service or cancel their subscription.\n",
    "In SaaS, tracking churn rates is essential because:\n",
    "\n",
    "**It helps understand customer behavior.**\n",
    "\n",
    "**It identifies reasons for customer drop-off.**\n",
    "\n",
    "**It enables data-driven decisions to improve customer retention.**\n",
    "\n",
    "By analyzing churn and subscription data together, businesses can predict future churn and improve customer satisfaction."
   ]
  },
  {
   "cell_type": "markdown",
   "id": "ca831532-7f45-4780-ab35-3c7adcac3a1e",
   "metadata": {},
   "source": [
    "## About the Dataset\n",
    "\n",
    "This dataset contains multiple interconnected tables from a fictional SaaS company called Ravenstack.\n",
    "It tracks customer accounts, subscriptions, churn events, feature usage, and support tickets.\n",
    "These tables can be merged using common keys like account_id and subscription_id to create a complete picture of the customer journey."
   ]
  },
  {
   "cell_type": "markdown",
   "id": "0e16c4a4-f77c-4f6e-8118-6f28bd2e2199",
   "metadata": {},
   "source": [
    "**Dataset resource :** \n",
    "https://www.kaggle.com/datasets/rivalytics/saas-subscription-and-churn-analytics-dataset?utm_source=chatgpt.com"
   ]
  },
  {
   "cell_type": "markdown",
   "id": "75ed8e35-20e5-42d4-a736-891f24ea6e58",
   "metadata": {},
   "source": [
    "## Dataset Files and Key Columns\n",
    "\n",
    "\n",
    "\n",
    "#### 1. ravenstack_accounts.csv\n",
    "\n",
    "**account_id** → Unique ID for each customer.\n",
    "\n",
    "**account_name** → Name of the customer account.\n",
    "\n",
    "**industry** → Industry category of the customer.\n",
    "\n",
    "**region** → Geographic region of the customer.\n",
    "\n",
    "**created_at** → Date the account was created.\n",
    "\n",
    "\n",
    "\n",
    "#### 2. ravenstack_subscriptions.csv\n",
    "    \n",
    "**subscription_id** → Unique ID for each subscription.\n",
    "\n",
    "**account_id** → Links to the customer in accounts.\n",
    "\n",
    "**plan_name** → Name of the subscription plan.\n",
    "\n",
    "**start_date, end_date** → Subscription timeline.\n",
    "\n",
    "**status** → Active, canceled, or expired.\n",
    "\n",
    "#### 3. ravenstack_churn_events.csv\n",
    "\n",
    "**churn_event_id** → Unique churn record ID.\n",
    "\n",
    "**subscription_id** → Links to the subscription.\n",
    "\n",
    "**churn_date** → Date the customer churned.\n",
    "\n",
    "**churn_reason** → Reason for cancellation.\n",
    "\n",
    "#### 4. ravenstack_feature_usage.csv\n",
    "\n",
    "**feature_usage_id** → Unique record of usage.\n",
    "\n",
    "**account_id** → Links to customer account.\n",
    "\n",
    "**feature_name** → Name of the feature used.\n",
    "\n",
    "**usage_count** → Number of times used.\n",
    "\n",
    "#### 5. ravenstack_support_tickets.csv\n",
    "\n",
    "**ticket_id** → Unique ticket number.\n",
    "\n",
    "**account_id** → Links to the customer.\n",
    "\n",
    "**issue_type** → Type of issue reported.\n",
    "\n",
    "**created_at, resolved_at** → Ticket timeline.\n",
    "\n"
   ]
  },
  {
   "cell_type": "markdown",
   "id": "94a170e9-fddf-4f59-9b82-d27aa1f6a9cb",
   "metadata": {},
   "source": [
    "## Purpose of Analysis\n",
    "\n",
    "The goal of this project is to:\n",
    "\n",
    "*Understand customer subscription patterns.*\n",
    "\n",
    "*Identify churn trends and reasons.*\n",
    "\n",
    "*Correlate feature usage and support interactions with churn.*\n",
    "\n",
    "*Provide actionable insights to reduce churn.*\n",
    "\n"
   ]
  },
  {
   "cell_type": "markdown",
   "id": "95671605-707d-4135-9d3d-e4ff35a4cb3c",
   "metadata": {},
   "source": [
    "## Loading Dataset and Libraries"
   ]
  },
  {
   "cell_type": "markdown",
   "id": "20b29ba9-0d19-485f-a49f-4997c93959c0",
   "metadata": {},
   "source": [
    "Importing libraries"
   ]
  },
  {
   "cell_type": "code",
   "execution_count": 1,
   "id": "41aa9ac3-25ae-4eb4-8747-a6898ec0f72c",
   "metadata": {},
   "outputs": [],
   "source": [
    "import pandas as pd\n",
    "import numpy as np"
   ]
  },
  {
   "cell_type": "markdown",
   "id": "8db75285-b432-402b-bd09-dbe9e8823878",
   "metadata": {},
   "source": [
    "**Loading all Datasets**"
   ]
  },
  {
   "cell_type": "code",
   "execution_count": 5,
   "id": "34758487-0302-4572-b04b-266699a55894",
   "metadata": {},
   "outputs": [],
   "source": [
    "accounts_df = pd.read_csv(\"ravenstack_accounts.csv\")\n",
    "churn_df = pd.read_csv(\"ravenstack_churn_events.csv\")\n",
    "features_df = pd.read_csv(\"ravenstack_feature_usage.csv\")\n",
    "subs_df = pd.read_csv(\"ravenstack_subscriptions.csv\")\n",
    "support_df = pd.read_csv(\"ravenstack_support_tickets.csv\")"
   ]
  },
  {
   "cell_type": "markdown",
   "id": "64327802-4e83-4ac7-b668-e047365d4428",
   "metadata": {},
   "source": [
    "**Merging all Datasets into One**"
   ]
  },
  {
   "cell_type": "markdown",
   "id": "cac30c65-b668-4bf5-a825-c56fee2fee29",
   "metadata": {},
   "source": [
    "Merging all datasets into a single file for efficient visualisation and exploratory purposes."
   ]
  },
  {
   "cell_type": "code",
   "execution_count": 6,
   "id": "ad37c19e-8c8f-480c-bc54-537ba8231952",
   "metadata": {},
   "outputs": [],
   "source": [
    "merged_df = pd.merge(subs_df, accounts_df, on='account_id', how='left')\n",
    "merged_df = pd.merge(merged_df, churn_df, on='account_id', how='left')\n",
    "merged_df = pd.merge(merged_df, support_df, on='account_id', how='left')\n",
    "merged_df = pd.merge(merged_df, features_df, on='subscription_id', how='left')"
   ]
  },
  {
   "cell_type": "markdown",
   "id": "b80a1726-0993-489f-a668-1d9cddd3f7c8",
   "metadata": {},
   "source": [
    "Converting the merged Dataset into a single csv file"
   ]
  },
  {
   "cell_type": "code",
   "execution_count": 7,
   "id": "3eb367ce-7e93-4116-8206-90a59fdd39c6",
   "metadata": {},
   "outputs": [],
   "source": [
    "merged_df.to_csv(\"merged_saas_dataset.csv\", index=False)"
   ]
  },
  {
   "cell_type": "markdown",
   "id": "3e21891c-8414-4c84-8ad5-4881b7c763ef",
   "metadata": {},
   "source": [
    "**Loading Merged Dataset**"
   ]
  },
  {
   "cell_type": "code",
   "execution_count": 2,
   "id": "0cd1690a-8767-4745-aa3a-20142d533e82",
   "metadata": {},
   "outputs": [],
   "source": [
    "master_df = pd.read_csv(\"merged_saas_dataset.csv\",low_memory=False)"
   ]
  },
  {
   "cell_type": "markdown",
   "id": "4c2fe97e-0a48-40c6-9edf-6ec2d51f4b02",
   "metadata": {},
   "source": [
    "## Inspecting Dataset"
   ]
  },
  {
   "cell_type": "markdown",
   "id": "46df683f-279b-4742-abe1-ae025632e8e5",
   "metadata": {},
   "source": [
    " Preview of Merged dataset"
   ]
  },
  {
   "cell_type": "code",
   "execution_count": 12,
   "id": "618f681c-ff61-4682-819e-213ab0ef9dfd",
   "metadata": {},
   "outputs": [
    {
     "name": "stdout",
     "output_type": "stream",
     "text": [
      "  subscription_id account_id  start_date    end_date plan_tier_x  seats_x  \\\n",
      "0        S-8cec59   A-3c1a3f  2023-12-23  2024-04-12  Enterprise       14   \n",
      "1        S-8cec59   A-3c1a3f  2023-12-23  2024-04-12  Enterprise       14   \n",
      "2        S-8cec59   A-3c1a3f  2023-12-23  2024-04-12  Enterprise       14   \n",
      "3        S-8cec59   A-3c1a3f  2023-12-23  2024-04-12  Enterprise       14   \n",
      "4        S-8cec59   A-3c1a3f  2023-12-23  2024-04-12  Enterprise       14   \n",
      "\n",
      "   mrr_amount  arr_amount  is_trial_x  upgrade_flag  ...  \\\n",
      "0        2786       33432       False         False  ...   \n",
      "1        2786       33432       False         False  ...   \n",
      "2        2786       33432       False         False  ...   \n",
      "3        2786       33432       False         False  ...   \n",
      "4        2786       33432       False         False  ...   \n",
      "\n",
      "   first_response_time_minutes  satisfaction_score escalation_flag  usage_id  \\\n",
      "0                         20.0                 NaN           False  U-ee0af2   \n",
      "1                         20.0                 NaN           False  U-eebc9c   \n",
      "2                         20.0                 NaN           False  U-4cc6e9   \n",
      "3                         20.0                 NaN           False  U-e22a1b   \n",
      "4                         20.0                 NaN           False  U-3fbbbc   \n",
      "\n",
      "   usage_date feature_name usage_count usage_duration_secs error_count  \\\n",
      "0  2024-06-21   feature_32        15.0              8670.0         1.0   \n",
      "1  2024-03-01    feature_5         6.0              1308.0         0.0   \n",
      "2  2024-10-06   feature_11        10.0               330.0         1.0   \n",
      "3  2023-12-03   feature_40         5.0              2475.0         0.0   \n",
      "4  2023-07-14   feature_21        15.0              8055.0         0.0   \n",
      "\n",
      "  is_beta_feature  \n",
      "0            True  \n",
      "1           False  \n",
      "2           False  \n",
      "3           False  \n",
      "4           False  \n",
      "\n",
      "[5 rows x 46 columns]\n"
     ]
    }
   ],
   "source": [
    "print(master_df.head())"
   ]
  },
  {
   "cell_type": "code",
   "execution_count": 13,
   "id": "238c7591-53fe-4cff-ace3-50a4a33bd951",
   "metadata": {
    "scrolled": true
   },
   "outputs": [
    {
     "data": {
      "text/html": [
       "<div>\n",
       "<style scoped>\n",
       "    .dataframe tbody tr th:only-of-type {\n",
       "        vertical-align: middle;\n",
       "    }\n",
       "\n",
       "    .dataframe tbody tr th {\n",
       "        vertical-align: top;\n",
       "    }\n",
       "\n",
       "    .dataframe thead th {\n",
       "        text-align: right;\n",
       "    }\n",
       "</style>\n",
       "<table border=\"1\" class=\"dataframe\">\n",
       "  <thead>\n",
       "    <tr style=\"text-align: right;\">\n",
       "      <th></th>\n",
       "      <th>subscription_id</th>\n",
       "      <th>account_id</th>\n",
       "      <th>start_date</th>\n",
       "      <th>end_date</th>\n",
       "      <th>plan_tier_x</th>\n",
       "      <th>seats_x</th>\n",
       "      <th>mrr_amount</th>\n",
       "      <th>arr_amount</th>\n",
       "      <th>is_trial_x</th>\n",
       "      <th>upgrade_flag</th>\n",
       "      <th>...</th>\n",
       "      <th>first_response_time_minutes</th>\n",
       "      <th>satisfaction_score</th>\n",
       "      <th>escalation_flag</th>\n",
       "      <th>usage_id</th>\n",
       "      <th>usage_date</th>\n",
       "      <th>feature_name</th>\n",
       "      <th>usage_count</th>\n",
       "      <th>usage_duration_secs</th>\n",
       "      <th>error_count</th>\n",
       "      <th>is_beta_feature</th>\n",
       "    </tr>\n",
       "  </thead>\n",
       "  <tbody>\n",
       "    <tr>\n",
       "      <th>0</th>\n",
       "      <td>S-8cec59</td>\n",
       "      <td>A-3c1a3f</td>\n",
       "      <td>2023-12-23</td>\n",
       "      <td>2024-04-12</td>\n",
       "      <td>Enterprise</td>\n",
       "      <td>14</td>\n",
       "      <td>2786</td>\n",
       "      <td>33432</td>\n",
       "      <td>False</td>\n",
       "      <td>False</td>\n",
       "      <td>...</td>\n",
       "      <td>20.0</td>\n",
       "      <td>NaN</td>\n",
       "      <td>False</td>\n",
       "      <td>U-ee0af2</td>\n",
       "      <td>2024-06-21</td>\n",
       "      <td>feature_32</td>\n",
       "      <td>15.0</td>\n",
       "      <td>8670.0</td>\n",
       "      <td>1.0</td>\n",
       "      <td>True</td>\n",
       "    </tr>\n",
       "    <tr>\n",
       "      <th>1</th>\n",
       "      <td>S-8cec59</td>\n",
       "      <td>A-3c1a3f</td>\n",
       "      <td>2023-12-23</td>\n",
       "      <td>2024-04-12</td>\n",
       "      <td>Enterprise</td>\n",
       "      <td>14</td>\n",
       "      <td>2786</td>\n",
       "      <td>33432</td>\n",
       "      <td>False</td>\n",
       "      <td>False</td>\n",
       "      <td>...</td>\n",
       "      <td>20.0</td>\n",
       "      <td>NaN</td>\n",
       "      <td>False</td>\n",
       "      <td>U-eebc9c</td>\n",
       "      <td>2024-03-01</td>\n",
       "      <td>feature_5</td>\n",
       "      <td>6.0</td>\n",
       "      <td>1308.0</td>\n",
       "      <td>0.0</td>\n",
       "      <td>False</td>\n",
       "    </tr>\n",
       "    <tr>\n",
       "      <th>2</th>\n",
       "      <td>S-8cec59</td>\n",
       "      <td>A-3c1a3f</td>\n",
       "      <td>2023-12-23</td>\n",
       "      <td>2024-04-12</td>\n",
       "      <td>Enterprise</td>\n",
       "      <td>14</td>\n",
       "      <td>2786</td>\n",
       "      <td>33432</td>\n",
       "      <td>False</td>\n",
       "      <td>False</td>\n",
       "      <td>...</td>\n",
       "      <td>20.0</td>\n",
       "      <td>NaN</td>\n",
       "      <td>False</td>\n",
       "      <td>U-4cc6e9</td>\n",
       "      <td>2024-10-06</td>\n",
       "      <td>feature_11</td>\n",
       "      <td>10.0</td>\n",
       "      <td>330.0</td>\n",
       "      <td>1.0</td>\n",
       "      <td>False</td>\n",
       "    </tr>\n",
       "    <tr>\n",
       "      <th>3</th>\n",
       "      <td>S-8cec59</td>\n",
       "      <td>A-3c1a3f</td>\n",
       "      <td>2023-12-23</td>\n",
       "      <td>2024-04-12</td>\n",
       "      <td>Enterprise</td>\n",
       "      <td>14</td>\n",
       "      <td>2786</td>\n",
       "      <td>33432</td>\n",
       "      <td>False</td>\n",
       "      <td>False</td>\n",
       "      <td>...</td>\n",
       "      <td>20.0</td>\n",
       "      <td>NaN</td>\n",
       "      <td>False</td>\n",
       "      <td>U-e22a1b</td>\n",
       "      <td>2023-12-03</td>\n",
       "      <td>feature_40</td>\n",
       "      <td>5.0</td>\n",
       "      <td>2475.0</td>\n",
       "      <td>0.0</td>\n",
       "      <td>False</td>\n",
       "    </tr>\n",
       "    <tr>\n",
       "      <th>4</th>\n",
       "      <td>S-8cec59</td>\n",
       "      <td>A-3c1a3f</td>\n",
       "      <td>2023-12-23</td>\n",
       "      <td>2024-04-12</td>\n",
       "      <td>Enterprise</td>\n",
       "      <td>14</td>\n",
       "      <td>2786</td>\n",
       "      <td>33432</td>\n",
       "      <td>False</td>\n",
       "      <td>False</td>\n",
       "      <td>...</td>\n",
       "      <td>20.0</td>\n",
       "      <td>NaN</td>\n",
       "      <td>False</td>\n",
       "      <td>U-3fbbbc</td>\n",
       "      <td>2023-07-14</td>\n",
       "      <td>feature_21</td>\n",
       "      <td>15.0</td>\n",
       "      <td>8055.0</td>\n",
       "      <td>0.0</td>\n",
       "      <td>False</td>\n",
       "    </tr>\n",
       "    <tr>\n",
       "      <th>...</th>\n",
       "      <td>...</td>\n",
       "      <td>...</td>\n",
       "      <td>...</td>\n",
       "      <td>...</td>\n",
       "      <td>...</td>\n",
       "      <td>...</td>\n",
       "      <td>...</td>\n",
       "      <td>...</td>\n",
       "      <td>...</td>\n",
       "      <td>...</td>\n",
       "      <td>...</td>\n",
       "      <td>...</td>\n",
       "      <td>...</td>\n",
       "      <td>...</td>\n",
       "      <td>...</td>\n",
       "      <td>...</td>\n",
       "      <td>...</td>\n",
       "      <td>...</td>\n",
       "      <td>...</td>\n",
       "      <td>...</td>\n",
       "      <td>...</td>\n",
       "    </tr>\n",
       "    <tr>\n",
       "      <th>147891</th>\n",
       "      <td>S-71fc3d</td>\n",
       "      <td>A-ccb686</td>\n",
       "      <td>2024-12-06</td>\n",
       "      <td>NaN</td>\n",
       "      <td>Enterprise</td>\n",
       "      <td>10</td>\n",
       "      <td>1990</td>\n",
       "      <td>23880</td>\n",
       "      <td>False</td>\n",
       "      <td>False</td>\n",
       "      <td>...</td>\n",
       "      <td>30.0</td>\n",
       "      <td>4.0</td>\n",
       "      <td>False</td>\n",
       "      <td>U-45db93</td>\n",
       "      <td>2024-12-22</td>\n",
       "      <td>feature_25</td>\n",
       "      <td>12.0</td>\n",
       "      <td>4488.0</td>\n",
       "      <td>2.0</td>\n",
       "      <td>True</td>\n",
       "    </tr>\n",
       "    <tr>\n",
       "      <th>147892</th>\n",
       "      <td>S-71fc3d</td>\n",
       "      <td>A-ccb686</td>\n",
       "      <td>2024-12-06</td>\n",
       "      <td>NaN</td>\n",
       "      <td>Enterprise</td>\n",
       "      <td>10</td>\n",
       "      <td>1990</td>\n",
       "      <td>23880</td>\n",
       "      <td>False</td>\n",
       "      <td>False</td>\n",
       "      <td>...</td>\n",
       "      <td>30.0</td>\n",
       "      <td>4.0</td>\n",
       "      <td>False</td>\n",
       "      <td>U-b2915b</td>\n",
       "      <td>2024-10-02</td>\n",
       "      <td>feature_26</td>\n",
       "      <td>15.0</td>\n",
       "      <td>885.0</td>\n",
       "      <td>0.0</td>\n",
       "      <td>False</td>\n",
       "    </tr>\n",
       "    <tr>\n",
       "      <th>147893</th>\n",
       "      <td>S-71fc3d</td>\n",
       "      <td>A-ccb686</td>\n",
       "      <td>2024-12-06</td>\n",
       "      <td>NaN</td>\n",
       "      <td>Enterprise</td>\n",
       "      <td>10</td>\n",
       "      <td>1990</td>\n",
       "      <td>23880</td>\n",
       "      <td>False</td>\n",
       "      <td>False</td>\n",
       "      <td>...</td>\n",
       "      <td>30.0</td>\n",
       "      <td>4.0</td>\n",
       "      <td>False</td>\n",
       "      <td>U-3d574e</td>\n",
       "      <td>2023-04-14</td>\n",
       "      <td>feature_31</td>\n",
       "      <td>7.0</td>\n",
       "      <td>2660.0</td>\n",
       "      <td>0.0</td>\n",
       "      <td>True</td>\n",
       "    </tr>\n",
       "    <tr>\n",
       "      <th>147894</th>\n",
       "      <td>S-71fc3d</td>\n",
       "      <td>A-ccb686</td>\n",
       "      <td>2024-12-06</td>\n",
       "      <td>NaN</td>\n",
       "      <td>Enterprise</td>\n",
       "      <td>10</td>\n",
       "      <td>1990</td>\n",
       "      <td>23880</td>\n",
       "      <td>False</td>\n",
       "      <td>False</td>\n",
       "      <td>...</td>\n",
       "      <td>30.0</td>\n",
       "      <td>4.0</td>\n",
       "      <td>False</td>\n",
       "      <td>U-1daedc</td>\n",
       "      <td>2024-03-11</td>\n",
       "      <td>feature_34</td>\n",
       "      <td>11.0</td>\n",
       "      <td>3960.0</td>\n",
       "      <td>2.0</td>\n",
       "      <td>False</td>\n",
       "    </tr>\n",
       "    <tr>\n",
       "      <th>147895</th>\n",
       "      <td>S-71fc3d</td>\n",
       "      <td>A-ccb686</td>\n",
       "      <td>2024-12-06</td>\n",
       "      <td>NaN</td>\n",
       "      <td>Enterprise</td>\n",
       "      <td>10</td>\n",
       "      <td>1990</td>\n",
       "      <td>23880</td>\n",
       "      <td>False</td>\n",
       "      <td>False</td>\n",
       "      <td>...</td>\n",
       "      <td>30.0</td>\n",
       "      <td>4.0</td>\n",
       "      <td>False</td>\n",
       "      <td>U-1fb3e3</td>\n",
       "      <td>2023-06-29</td>\n",
       "      <td>feature_29</td>\n",
       "      <td>12.0</td>\n",
       "      <td>2844.0</td>\n",
       "      <td>1.0</td>\n",
       "      <td>False</td>\n",
       "    </tr>\n",
       "  </tbody>\n",
       "</table>\n",
       "<p>147896 rows × 46 columns</p>\n",
       "</div>"
      ],
      "text/plain": [
       "       subscription_id account_id  start_date    end_date plan_tier_x  \\\n",
       "0             S-8cec59   A-3c1a3f  2023-12-23  2024-04-12  Enterprise   \n",
       "1             S-8cec59   A-3c1a3f  2023-12-23  2024-04-12  Enterprise   \n",
       "2             S-8cec59   A-3c1a3f  2023-12-23  2024-04-12  Enterprise   \n",
       "3             S-8cec59   A-3c1a3f  2023-12-23  2024-04-12  Enterprise   \n",
       "4             S-8cec59   A-3c1a3f  2023-12-23  2024-04-12  Enterprise   \n",
       "...                ...        ...         ...         ...         ...   \n",
       "147891        S-71fc3d   A-ccb686  2024-12-06         NaN  Enterprise   \n",
       "147892        S-71fc3d   A-ccb686  2024-12-06         NaN  Enterprise   \n",
       "147893        S-71fc3d   A-ccb686  2024-12-06         NaN  Enterprise   \n",
       "147894        S-71fc3d   A-ccb686  2024-12-06         NaN  Enterprise   \n",
       "147895        S-71fc3d   A-ccb686  2024-12-06         NaN  Enterprise   \n",
       "\n",
       "        seats_x  mrr_amount  arr_amount  is_trial_x  upgrade_flag  ...  \\\n",
       "0            14        2786       33432       False         False  ...   \n",
       "1            14        2786       33432       False         False  ...   \n",
       "2            14        2786       33432       False         False  ...   \n",
       "3            14        2786       33432       False         False  ...   \n",
       "4            14        2786       33432       False         False  ...   \n",
       "...         ...         ...         ...         ...           ...  ...   \n",
       "147891       10        1990       23880       False         False  ...   \n",
       "147892       10        1990       23880       False         False  ...   \n",
       "147893       10        1990       23880       False         False  ...   \n",
       "147894       10        1990       23880       False         False  ...   \n",
       "147895       10        1990       23880       False         False  ...   \n",
       "\n",
       "        first_response_time_minutes  satisfaction_score escalation_flag  \\\n",
       "0                              20.0                 NaN           False   \n",
       "1                              20.0                 NaN           False   \n",
       "2                              20.0                 NaN           False   \n",
       "3                              20.0                 NaN           False   \n",
       "4                              20.0                 NaN           False   \n",
       "...                             ...                 ...             ...   \n",
       "147891                         30.0                 4.0           False   \n",
       "147892                         30.0                 4.0           False   \n",
       "147893                         30.0                 4.0           False   \n",
       "147894                         30.0                 4.0           False   \n",
       "147895                         30.0                 4.0           False   \n",
       "\n",
       "        usage_id  usage_date feature_name usage_count usage_duration_secs  \\\n",
       "0       U-ee0af2  2024-06-21   feature_32        15.0              8670.0   \n",
       "1       U-eebc9c  2024-03-01    feature_5         6.0              1308.0   \n",
       "2       U-4cc6e9  2024-10-06   feature_11        10.0               330.0   \n",
       "3       U-e22a1b  2023-12-03   feature_40         5.0              2475.0   \n",
       "4       U-3fbbbc  2023-07-14   feature_21        15.0              8055.0   \n",
       "...          ...         ...          ...         ...                 ...   \n",
       "147891  U-45db93  2024-12-22   feature_25        12.0              4488.0   \n",
       "147892  U-b2915b  2024-10-02   feature_26        15.0               885.0   \n",
       "147893  U-3d574e  2023-04-14   feature_31         7.0              2660.0   \n",
       "147894  U-1daedc  2024-03-11   feature_34        11.0              3960.0   \n",
       "147895  U-1fb3e3  2023-06-29   feature_29        12.0              2844.0   \n",
       "\n",
       "       error_count is_beta_feature  \n",
       "0              1.0            True  \n",
       "1              0.0           False  \n",
       "2              1.0           False  \n",
       "3              0.0           False  \n",
       "4              0.0           False  \n",
       "...            ...             ...  \n",
       "147891         2.0            True  \n",
       "147892         0.0           False  \n",
       "147893         0.0            True  \n",
       "147894         2.0           False  \n",
       "147895         1.0           False  \n",
       "\n",
       "[147896 rows x 46 columns]"
      ]
     },
     "execution_count": 13,
     "metadata": {},
     "output_type": "execute_result"
    }
   ],
   "source": [
    "master_df"
   ]
  },
  {
   "cell_type": "markdown",
   "id": "bc7d9c90-e7fb-483d-b5b0-57f5027f36f0",
   "metadata": {},
   "source": [
    "**Check shape and columns**"
   ]
  },
  {
   "cell_type": "code",
   "execution_count": 17,
   "id": "575fcd1a-15b4-472e-8920-c486f5425e5b",
   "metadata": {},
   "outputs": [
    {
     "name": "stdout",
     "output_type": "stream",
     "text": [
      "(147896, 46)\n"
     ]
    }
   ],
   "source": [
    "# shape\n",
    "print(master_df.shape)"
   ]
  },
  {
   "cell_type": "markdown",
   "id": "15efa1f8-236a-4603-84e3-e8ea999c07ae",
   "metadata": {},
   "source": [
    "Merged dataset contains 147896 rows and 46 columns."
   ]
  },
  {
   "cell_type": "code",
   "execution_count": 18,
   "id": "04ec699f-e636-4b70-8e6f-ca3020656942",
   "metadata": {},
   "outputs": [
    {
     "name": "stdout",
     "output_type": "stream",
     "text": [
      "Index(['subscription_id', 'account_id', 'start_date', 'end_date',\n",
      "       'plan_tier_x', 'seats_x', 'mrr_amount', 'arr_amount', 'is_trial_x',\n",
      "       'upgrade_flag', 'downgrade_flag', 'churn_flag_x', 'billing_frequency',\n",
      "       'auto_renew_flag', 'account_name', 'industry', 'country', 'signup_date',\n",
      "       'referral_source', 'plan_tier_y', 'seats_y', 'is_trial_y',\n",
      "       'churn_flag_y', 'churn_event_id', 'churn_date', 'reason_code',\n",
      "       'refund_amount_usd', 'preceding_upgrade_flag',\n",
      "       'preceding_downgrade_flag', 'is_reactivation', 'feedback_text',\n",
      "       'ticket_id', 'submitted_at', 'closed_at', 'resolution_time_hours',\n",
      "       'priority', 'first_response_time_minutes', 'satisfaction_score',\n",
      "       'escalation_flag', 'usage_id', 'usage_date', 'feature_name',\n",
      "       'usage_count', 'usage_duration_secs', 'error_count', 'is_beta_feature'],\n",
      "      dtype='object')\n"
     ]
    }
   ],
   "source": [
    "# Columns\n",
    "print(master_df.columns)"
   ]
  },
  {
   "cell_type": "markdown",
   "id": "0aa0ff30-bc9d-4cda-910d-c52a06fc4b08",
   "metadata": {},
   "source": [
    "Heads of 46 columns"
   ]
  },
  {
   "cell_type": "code",
   "execution_count": 4,
   "id": "58f8d9c4-40bf-4fc6-8e9d-c5ad40367d52",
   "metadata": {},
   "outputs": [
    {
     "data": {
      "text/plain": [
       "subscription_id                 object\n",
       "account_id                      object\n",
       "start_date                      object\n",
       "end_date                        object\n",
       "plan_tier_x                     object\n",
       "seats_x                          int64\n",
       "mrr_amount                       int64\n",
       "arr_amount                       int64\n",
       "is_trial_x                        bool\n",
       "upgrade_flag                      bool\n",
       "downgrade_flag                    bool\n",
       "churn_flag_x                      bool\n",
       "billing_frequency               object\n",
       "auto_renew_flag                   bool\n",
       "account_name                    object\n",
       "industry                        object\n",
       "country                         object\n",
       "signup_date                     object\n",
       "referral_source                 object\n",
       "plan_tier_y                     object\n",
       "seats_y                          int64\n",
       "is_trial_y                        bool\n",
       "churn_flag_y                      bool\n",
       "churn_event_id                  object\n",
       "churn_date                      object\n",
       "reason_code                     object\n",
       "refund_amount_usd              float64\n",
       "preceding_upgrade_flag          object\n",
       "preceding_downgrade_flag        object\n",
       "is_reactivation                 object\n",
       "feedback_text                   object\n",
       "ticket_id                       object\n",
       "submitted_at                    object\n",
       "closed_at                       object\n",
       "resolution_time_hours          float64\n",
       "priority                        object\n",
       "first_response_time_minutes    float64\n",
       "satisfaction_score             float64\n",
       "escalation_flag                 object\n",
       "usage_id                        object\n",
       "usage_date                      object\n",
       "feature_name                    object\n",
       "usage_count                    float64\n",
       "usage_duration_secs            float64\n",
       "error_count                    float64\n",
       "is_beta_feature                 object\n",
       "dtype: object"
      ]
     },
     "execution_count": 4,
     "metadata": {},
     "output_type": "execute_result"
    }
   ],
   "source": [
    "# Datatypes of each corresponding columns\n",
    "master_df.dtypes"
   ]
  },
  {
   "cell_type": "markdown",
   "id": "998abb7b-0524-4202-9ef5-da3b83a33ef6",
   "metadata": {},
   "source": [
    "**Columns and corresponding Datatypes:**\n",
    "\n",
    "int64 = 64 bit integer\n",
    "\n",
    "float64 = 64 bit double precision floating number\n",
    "\n",
    "Object = mixed datatypes included in a column\n",
    "\n",
    "bool = boolean true or false data"
   ]
  },
  {
   "cell_type": "code",
   "execution_count": 12,
   "id": "39eddb94-d010-4a9e-8f6a-879f7789230f",
   "metadata": {},
   "outputs": [
    {
     "data": {
      "text/html": [
       "<div>\n",
       "<style scoped>\n",
       "    .dataframe tbody tr th:only-of-type {\n",
       "        vertical-align: middle;\n",
       "    }\n",
       "\n",
       "    .dataframe tbody tr th {\n",
       "        vertical-align: top;\n",
       "    }\n",
       "\n",
       "    .dataframe thead th {\n",
       "        text-align: right;\n",
       "    }\n",
       "</style>\n",
       "<table border=\"1\" class=\"dataframe\">\n",
       "  <thead>\n",
       "    <tr style=\"text-align: right;\">\n",
       "      <th></th>\n",
       "      <th>subscription_id</th>\n",
       "      <th>account_id</th>\n",
       "      <th>start_date</th>\n",
       "      <th>end_date</th>\n",
       "      <th>plan_tier_x</th>\n",
       "      <th>seats_x</th>\n",
       "      <th>mrr_amount</th>\n",
       "      <th>arr_amount</th>\n",
       "      <th>is_trial_x</th>\n",
       "      <th>upgrade_flag</th>\n",
       "      <th>...</th>\n",
       "      <th>first_response_time_minutes</th>\n",
       "      <th>satisfaction_score</th>\n",
       "      <th>escalation_flag</th>\n",
       "      <th>usage_id</th>\n",
       "      <th>usage_date</th>\n",
       "      <th>feature_name</th>\n",
       "      <th>usage_count</th>\n",
       "      <th>usage_duration_secs</th>\n",
       "      <th>error_count</th>\n",
       "      <th>is_beta_feature</th>\n",
       "    </tr>\n",
       "  </thead>\n",
       "  <tbody>\n",
       "    <tr>\n",
       "      <th>0</th>\n",
       "      <td>S-8cec59</td>\n",
       "      <td>A-3c1a3f</td>\n",
       "      <td>2023-12-23</td>\n",
       "      <td>2024-04-12</td>\n",
       "      <td>Enterprise</td>\n",
       "      <td>14</td>\n",
       "      <td>2786</td>\n",
       "      <td>33432</td>\n",
       "      <td>False</td>\n",
       "      <td>False</td>\n",
       "      <td>...</td>\n",
       "      <td>20.0</td>\n",
       "      <td>NaN</td>\n",
       "      <td>False</td>\n",
       "      <td>U-ee0af2</td>\n",
       "      <td>2024-06-21</td>\n",
       "      <td>feature_32</td>\n",
       "      <td>15.0</td>\n",
       "      <td>8670.0</td>\n",
       "      <td>1.0</td>\n",
       "      <td>True</td>\n",
       "    </tr>\n",
       "    <tr>\n",
       "      <th>1</th>\n",
       "      <td>S-8cec59</td>\n",
       "      <td>A-3c1a3f</td>\n",
       "      <td>2023-12-23</td>\n",
       "      <td>2024-04-12</td>\n",
       "      <td>Enterprise</td>\n",
       "      <td>14</td>\n",
       "      <td>2786</td>\n",
       "      <td>33432</td>\n",
       "      <td>False</td>\n",
       "      <td>False</td>\n",
       "      <td>...</td>\n",
       "      <td>20.0</td>\n",
       "      <td>NaN</td>\n",
       "      <td>False</td>\n",
       "      <td>U-eebc9c</td>\n",
       "      <td>2024-03-01</td>\n",
       "      <td>feature_5</td>\n",
       "      <td>6.0</td>\n",
       "      <td>1308.0</td>\n",
       "      <td>0.0</td>\n",
       "      <td>False</td>\n",
       "    </tr>\n",
       "    <tr>\n",
       "      <th>2</th>\n",
       "      <td>S-8cec59</td>\n",
       "      <td>A-3c1a3f</td>\n",
       "      <td>2023-12-23</td>\n",
       "      <td>2024-04-12</td>\n",
       "      <td>Enterprise</td>\n",
       "      <td>14</td>\n",
       "      <td>2786</td>\n",
       "      <td>33432</td>\n",
       "      <td>False</td>\n",
       "      <td>False</td>\n",
       "      <td>...</td>\n",
       "      <td>20.0</td>\n",
       "      <td>NaN</td>\n",
       "      <td>False</td>\n",
       "      <td>U-4cc6e9</td>\n",
       "      <td>2024-10-06</td>\n",
       "      <td>feature_11</td>\n",
       "      <td>10.0</td>\n",
       "      <td>330.0</td>\n",
       "      <td>1.0</td>\n",
       "      <td>False</td>\n",
       "    </tr>\n",
       "    <tr>\n",
       "      <th>3</th>\n",
       "      <td>S-8cec59</td>\n",
       "      <td>A-3c1a3f</td>\n",
       "      <td>2023-12-23</td>\n",
       "      <td>2024-04-12</td>\n",
       "      <td>Enterprise</td>\n",
       "      <td>14</td>\n",
       "      <td>2786</td>\n",
       "      <td>33432</td>\n",
       "      <td>False</td>\n",
       "      <td>False</td>\n",
       "      <td>...</td>\n",
       "      <td>20.0</td>\n",
       "      <td>NaN</td>\n",
       "      <td>False</td>\n",
       "      <td>U-e22a1b</td>\n",
       "      <td>2023-12-03</td>\n",
       "      <td>feature_40</td>\n",
       "      <td>5.0</td>\n",
       "      <td>2475.0</td>\n",
       "      <td>0.0</td>\n",
       "      <td>False</td>\n",
       "    </tr>\n",
       "    <tr>\n",
       "      <th>4</th>\n",
       "      <td>S-8cec59</td>\n",
       "      <td>A-3c1a3f</td>\n",
       "      <td>2023-12-23</td>\n",
       "      <td>2024-04-12</td>\n",
       "      <td>Enterprise</td>\n",
       "      <td>14</td>\n",
       "      <td>2786</td>\n",
       "      <td>33432</td>\n",
       "      <td>False</td>\n",
       "      <td>False</td>\n",
       "      <td>...</td>\n",
       "      <td>20.0</td>\n",
       "      <td>NaN</td>\n",
       "      <td>False</td>\n",
       "      <td>U-3fbbbc</td>\n",
       "      <td>2023-07-14</td>\n",
       "      <td>feature_21</td>\n",
       "      <td>15.0</td>\n",
       "      <td>8055.0</td>\n",
       "      <td>0.0</td>\n",
       "      <td>False</td>\n",
       "    </tr>\n",
       "  </tbody>\n",
       "</table>\n",
       "<p>5 rows × 46 columns</p>\n",
       "</div>"
      ],
      "text/plain": [
       "  subscription_id account_id  start_date    end_date plan_tier_x  seats_x  \\\n",
       "0        S-8cec59   A-3c1a3f  2023-12-23  2024-04-12  Enterprise       14   \n",
       "1        S-8cec59   A-3c1a3f  2023-12-23  2024-04-12  Enterprise       14   \n",
       "2        S-8cec59   A-3c1a3f  2023-12-23  2024-04-12  Enterprise       14   \n",
       "3        S-8cec59   A-3c1a3f  2023-12-23  2024-04-12  Enterprise       14   \n",
       "4        S-8cec59   A-3c1a3f  2023-12-23  2024-04-12  Enterprise       14   \n",
       "\n",
       "   mrr_amount  arr_amount  is_trial_x  upgrade_flag  ...  \\\n",
       "0        2786       33432       False         False  ...   \n",
       "1        2786       33432       False         False  ...   \n",
       "2        2786       33432       False         False  ...   \n",
       "3        2786       33432       False         False  ...   \n",
       "4        2786       33432       False         False  ...   \n",
       "\n",
       "   first_response_time_minutes  satisfaction_score escalation_flag  usage_id  \\\n",
       "0                         20.0                 NaN           False  U-ee0af2   \n",
       "1                         20.0                 NaN           False  U-eebc9c   \n",
       "2                         20.0                 NaN           False  U-4cc6e9   \n",
       "3                         20.0                 NaN           False  U-e22a1b   \n",
       "4                         20.0                 NaN           False  U-3fbbbc   \n",
       "\n",
       "   usage_date feature_name usage_count usage_duration_secs error_count  \\\n",
       "0  2024-06-21   feature_32        15.0              8670.0         1.0   \n",
       "1  2024-03-01    feature_5         6.0              1308.0         0.0   \n",
       "2  2024-10-06   feature_11        10.0               330.0         1.0   \n",
       "3  2023-12-03   feature_40         5.0              2475.0         0.0   \n",
       "4  2023-07-14   feature_21        15.0              8055.0         0.0   \n",
       "\n",
       "  is_beta_feature  \n",
       "0            True  \n",
       "1           False  \n",
       "2           False  \n",
       "3           False  \n",
       "4           False  \n",
       "\n",
       "[5 rows x 46 columns]"
      ]
     },
     "execution_count": 12,
     "metadata": {},
     "output_type": "execute_result"
    }
   ],
   "source": [
    "# first 5 rows of dataset\n",
    "master_df.head()"
   ]
  },
  {
   "cell_type": "code",
   "execution_count": 13,
   "id": "9021d82d-b947-4aff-8fe2-1be7b8ecb787",
   "metadata": {},
   "outputs": [
    {
     "data": {
      "text/html": [
       "<div>\n",
       "<style scoped>\n",
       "    .dataframe tbody tr th:only-of-type {\n",
       "        vertical-align: middle;\n",
       "    }\n",
       "\n",
       "    .dataframe tbody tr th {\n",
       "        vertical-align: top;\n",
       "    }\n",
       "\n",
       "    .dataframe thead th {\n",
       "        text-align: right;\n",
       "    }\n",
       "</style>\n",
       "<table border=\"1\" class=\"dataframe\">\n",
       "  <thead>\n",
       "    <tr style=\"text-align: right;\">\n",
       "      <th></th>\n",
       "      <th>subscription_id</th>\n",
       "      <th>account_id</th>\n",
       "      <th>start_date</th>\n",
       "      <th>end_date</th>\n",
       "      <th>plan_tier_x</th>\n",
       "      <th>seats_x</th>\n",
       "      <th>mrr_amount</th>\n",
       "      <th>arr_amount</th>\n",
       "      <th>is_trial_x</th>\n",
       "      <th>upgrade_flag</th>\n",
       "      <th>...</th>\n",
       "      <th>first_response_time_minutes</th>\n",
       "      <th>satisfaction_score</th>\n",
       "      <th>escalation_flag</th>\n",
       "      <th>usage_id</th>\n",
       "      <th>usage_date</th>\n",
       "      <th>feature_name</th>\n",
       "      <th>usage_count</th>\n",
       "      <th>usage_duration_secs</th>\n",
       "      <th>error_count</th>\n",
       "      <th>is_beta_feature</th>\n",
       "    </tr>\n",
       "  </thead>\n",
       "  <tbody>\n",
       "    <tr>\n",
       "      <th>147891</th>\n",
       "      <td>S-71fc3d</td>\n",
       "      <td>A-ccb686</td>\n",
       "      <td>2024-12-06</td>\n",
       "      <td>NaN</td>\n",
       "      <td>Enterprise</td>\n",
       "      <td>10</td>\n",
       "      <td>1990</td>\n",
       "      <td>23880</td>\n",
       "      <td>False</td>\n",
       "      <td>False</td>\n",
       "      <td>...</td>\n",
       "      <td>30.0</td>\n",
       "      <td>4.0</td>\n",
       "      <td>False</td>\n",
       "      <td>U-45db93</td>\n",
       "      <td>2024-12-22</td>\n",
       "      <td>feature_25</td>\n",
       "      <td>12.0</td>\n",
       "      <td>4488.0</td>\n",
       "      <td>2.0</td>\n",
       "      <td>True</td>\n",
       "    </tr>\n",
       "    <tr>\n",
       "      <th>147892</th>\n",
       "      <td>S-71fc3d</td>\n",
       "      <td>A-ccb686</td>\n",
       "      <td>2024-12-06</td>\n",
       "      <td>NaN</td>\n",
       "      <td>Enterprise</td>\n",
       "      <td>10</td>\n",
       "      <td>1990</td>\n",
       "      <td>23880</td>\n",
       "      <td>False</td>\n",
       "      <td>False</td>\n",
       "      <td>...</td>\n",
       "      <td>30.0</td>\n",
       "      <td>4.0</td>\n",
       "      <td>False</td>\n",
       "      <td>U-b2915b</td>\n",
       "      <td>2024-10-02</td>\n",
       "      <td>feature_26</td>\n",
       "      <td>15.0</td>\n",
       "      <td>885.0</td>\n",
       "      <td>0.0</td>\n",
       "      <td>False</td>\n",
       "    </tr>\n",
       "    <tr>\n",
       "      <th>147893</th>\n",
       "      <td>S-71fc3d</td>\n",
       "      <td>A-ccb686</td>\n",
       "      <td>2024-12-06</td>\n",
       "      <td>NaN</td>\n",
       "      <td>Enterprise</td>\n",
       "      <td>10</td>\n",
       "      <td>1990</td>\n",
       "      <td>23880</td>\n",
       "      <td>False</td>\n",
       "      <td>False</td>\n",
       "      <td>...</td>\n",
       "      <td>30.0</td>\n",
       "      <td>4.0</td>\n",
       "      <td>False</td>\n",
       "      <td>U-3d574e</td>\n",
       "      <td>2023-04-14</td>\n",
       "      <td>feature_31</td>\n",
       "      <td>7.0</td>\n",
       "      <td>2660.0</td>\n",
       "      <td>0.0</td>\n",
       "      <td>True</td>\n",
       "    </tr>\n",
       "    <tr>\n",
       "      <th>147894</th>\n",
       "      <td>S-71fc3d</td>\n",
       "      <td>A-ccb686</td>\n",
       "      <td>2024-12-06</td>\n",
       "      <td>NaN</td>\n",
       "      <td>Enterprise</td>\n",
       "      <td>10</td>\n",
       "      <td>1990</td>\n",
       "      <td>23880</td>\n",
       "      <td>False</td>\n",
       "      <td>False</td>\n",
       "      <td>...</td>\n",
       "      <td>30.0</td>\n",
       "      <td>4.0</td>\n",
       "      <td>False</td>\n",
       "      <td>U-1daedc</td>\n",
       "      <td>2024-03-11</td>\n",
       "      <td>feature_34</td>\n",
       "      <td>11.0</td>\n",
       "      <td>3960.0</td>\n",
       "      <td>2.0</td>\n",
       "      <td>False</td>\n",
       "    </tr>\n",
       "    <tr>\n",
       "      <th>147895</th>\n",
       "      <td>S-71fc3d</td>\n",
       "      <td>A-ccb686</td>\n",
       "      <td>2024-12-06</td>\n",
       "      <td>NaN</td>\n",
       "      <td>Enterprise</td>\n",
       "      <td>10</td>\n",
       "      <td>1990</td>\n",
       "      <td>23880</td>\n",
       "      <td>False</td>\n",
       "      <td>False</td>\n",
       "      <td>...</td>\n",
       "      <td>30.0</td>\n",
       "      <td>4.0</td>\n",
       "      <td>False</td>\n",
       "      <td>U-1fb3e3</td>\n",
       "      <td>2023-06-29</td>\n",
       "      <td>feature_29</td>\n",
       "      <td>12.0</td>\n",
       "      <td>2844.0</td>\n",
       "      <td>1.0</td>\n",
       "      <td>False</td>\n",
       "    </tr>\n",
       "  </tbody>\n",
       "</table>\n",
       "<p>5 rows × 46 columns</p>\n",
       "</div>"
      ],
      "text/plain": [
       "       subscription_id account_id  start_date end_date plan_tier_x  seats_x  \\\n",
       "147891        S-71fc3d   A-ccb686  2024-12-06      NaN  Enterprise       10   \n",
       "147892        S-71fc3d   A-ccb686  2024-12-06      NaN  Enterprise       10   \n",
       "147893        S-71fc3d   A-ccb686  2024-12-06      NaN  Enterprise       10   \n",
       "147894        S-71fc3d   A-ccb686  2024-12-06      NaN  Enterprise       10   \n",
       "147895        S-71fc3d   A-ccb686  2024-12-06      NaN  Enterprise       10   \n",
       "\n",
       "        mrr_amount  arr_amount  is_trial_x  upgrade_flag  ...  \\\n",
       "147891        1990       23880       False         False  ...   \n",
       "147892        1990       23880       False         False  ...   \n",
       "147893        1990       23880       False         False  ...   \n",
       "147894        1990       23880       False         False  ...   \n",
       "147895        1990       23880       False         False  ...   \n",
       "\n",
       "        first_response_time_minutes  satisfaction_score escalation_flag  \\\n",
       "147891                         30.0                 4.0           False   \n",
       "147892                         30.0                 4.0           False   \n",
       "147893                         30.0                 4.0           False   \n",
       "147894                         30.0                 4.0           False   \n",
       "147895                         30.0                 4.0           False   \n",
       "\n",
       "        usage_id  usage_date feature_name usage_count usage_duration_secs  \\\n",
       "147891  U-45db93  2024-12-22   feature_25        12.0              4488.0   \n",
       "147892  U-b2915b  2024-10-02   feature_26        15.0               885.0   \n",
       "147893  U-3d574e  2023-04-14   feature_31         7.0              2660.0   \n",
       "147894  U-1daedc  2024-03-11   feature_34        11.0              3960.0   \n",
       "147895  U-1fb3e3  2023-06-29   feature_29        12.0              2844.0   \n",
       "\n",
       "       error_count is_beta_feature  \n",
       "147891         2.0            True  \n",
       "147892         0.0           False  \n",
       "147893         0.0            True  \n",
       "147894         2.0           False  \n",
       "147895         1.0           False  \n",
       "\n",
       "[5 rows x 46 columns]"
      ]
     },
     "execution_count": 13,
     "metadata": {},
     "output_type": "execute_result"
    }
   ],
   "source": [
    "# last 5 rows of dataset \n",
    "master_df.tail()"
   ]
  },
  {
   "cell_type": "markdown",
   "id": "3057d22a-c745-4bf9-aad6-6358296e4d37",
   "metadata": {},
   "source": [
    " **Checking and correcting missing values**"
   ]
  },
  {
   "cell_type": "code",
   "execution_count": 8,
   "id": "5064c248-0245-4ffc-84c1-46cbff7bccd7",
   "metadata": {},
   "outputs": [
    {
     "name": "stdout",
     "output_type": "stream",
     "text": [
      "subscription_id                     0\n",
      "account_id                          0\n",
      "start_date                          0\n",
      "end_date                       133296\n",
      "plan_tier_x                         0\n",
      "seats_x                             0\n",
      "mrr_amount                          0\n",
      "arr_amount                          0\n",
      "is_trial_x                          0\n",
      "upgrade_flag                        0\n",
      "downgrade_flag                      0\n",
      "churn_flag_x                        0\n",
      "billing_frequency                   0\n",
      "auto_renew_flag                     0\n",
      "account_name                        0\n",
      "industry                            0\n",
      "country                             0\n",
      "signup_date                         0\n",
      "referral_source                     0\n",
      "plan_tier_y                         0\n",
      "seats_y                             0\n",
      "is_trial_y                          0\n",
      "churn_flag_y                        0\n",
      "churn_event_id                  29841\n",
      "churn_date                      29841\n",
      "reason_code                     29841\n",
      "refund_amount_usd               29841\n",
      "preceding_upgrade_flag          29841\n",
      "preceding_downgrade_flag        29841\n",
      "is_reactivation                 29841\n",
      "feedback_text                   58601\n",
      "ticket_id                         461\n",
      "submitted_at                      461\n",
      "closed_at                         461\n",
      "resolution_time_hours             461\n",
      "priority                          461\n",
      "first_response_time_minutes       461\n",
      "satisfaction_score              62723\n",
      "escalation_flag                   461\n",
      "usage_id                          260\n",
      "usage_date                        260\n",
      "feature_name                      260\n",
      "usage_count                       260\n",
      "usage_duration_secs               260\n",
      "error_count                       260\n",
      "is_beta_feature                   260\n",
      "dtype: int64\n"
     ]
    }
   ],
   "source": [
    "print(master_df.isnull().sum())"
   ]
  },
  {
   "cell_type": "code",
   "execution_count": 15,
   "id": "7fdbd421-c7e9-4d29-9e52-9705e804b7bb",
   "metadata": {},
   "outputs": [],
   "source": [
    "# Making a copy of the merged dataset\n",
    "df = master_df.copy()"
   ]
  },
  {
   "cell_type": "code",
   "execution_count": 23,
   "id": "c3c0a0fd-44af-4331-934d-bf9e6ccb4124",
   "metadata": {},
   "outputs": [],
   "source": [
    "# Handling subscription end_date -> replacing NaN with 'Ongoing'\n",
    "df['end_date'] = df['end_date'].fillna('Ongoing')"
   ]
  },
  {
   "cell_type": "code",
   "execution_count": 24,
   "id": "51622696-e6ce-4b4e-a7c7-d4be8a51e3db",
   "metadata": {},
   "outputs": [],
   "source": [
    "# Handling churn-related columns -> replacing NaN with 'Not churned'\n",
    "churn_cols = ['churn_event_id', 'churn_date', 'reason_code']\n",
    "for col in churn_cols:\n",
    "    df[col] = df[col].fillna('Not churned')"
   ]
  },
  {
   "cell_type": "code",
   "execution_count": 25,
   "id": "d77a4ab0-f9e8-4a4b-83e4-57d17fe238a5",
   "metadata": {},
   "outputs": [],
   "source": [
    "# Refund amount -> NaN means no refund, so filling with 0\n",
    "df['refund_amount_usd'] = df['refund_amount_usd'].fillna(0)"
   ]
  },
  {
   "cell_type": "code",
   "execution_count": 26,
   "id": "6f72d21a-d68c-44df-9b17-e3f1e67b450e",
   "metadata": {},
   "outputs": [],
   "source": [
    "# Feedback text -> filling with \"No Feedback\"\n",
    "df['feedback_text'] = df['feedback_text'].fillna(\"No Feedback\")"
   ]
  },
  {
   "cell_type": "code",
   "execution_count": 27,
   "id": "540d5b62-fa36-45de-875d-5d9146754990",
   "metadata": {},
   "outputs": [],
   "source": [
    "# Support ticket-related columns -> keep missing as \"No Ticket\"\n",
    "ticket_cols = ['ticket_id', 'submitted_at', 'closed_at', 'priority']\n",
    "for col in ticket_cols:\n",
    "    df[col] = df[col].fillna(\"No Ticket\")"
   ]
  },
  {
   "cell_type": "code",
   "execution_count": 28,
   "id": "4bab3d23-e3de-4cee-804d-8499eed177a4",
   "metadata": {},
   "outputs": [],
   "source": [
    "# Satisfaction score -> filling with average since numeric\n",
    "df['satisfaction_score'] = df['satisfaction_score'].fillna(df['satisfaction_score'].mean())"
   ]
  },
  {
   "cell_type": "code",
   "execution_count": 29,
   "id": "cc8bf282-3f98-403c-95f9-02678f7f9473",
   "metadata": {},
   "outputs": [],
   "source": [
    "# Feature usage nulls -> means no usage, filling with 0 or \"No Feature\"\n",
    "df['usage_count'] = df['usage_count'].fillna(0)\n",
    "df['usage_duration_secs'] = df['usage_duration_secs'].fillna(0)\n",
    "df['error_count'] = df['error_count'].fillna(0)\n",
    "df['feature_name'] = df['feature_name'].fillna(\"No Feature\")"
   ]
  },
  {
   "cell_type": "code",
   "execution_count": 31,
   "id": "7eac5078-03c6-4869-a361-083d4d02be28",
   "metadata": {},
   "outputs": [],
   "source": [
    "# Drop duplicates just in case\n",
    "df = df.drop_duplicates()"
   ]
  },
  {
   "cell_type": "code",
   "execution_count": 33,
   "id": "22190282-6bc8-4a8c-b2f5-318829fad6c5",
   "metadata": {},
   "outputs": [
    {
     "name": "stdout",
     "output_type": "stream",
     "text": [
      "subscription_id                    0\n",
      "account_id                         0\n",
      "start_date                         0\n",
      "end_date                           0\n",
      "plan_tier_x                        0\n",
      "seats_x                            0\n",
      "mrr_amount                         0\n",
      "arr_amount                         0\n",
      "is_trial_x                         0\n",
      "upgrade_flag                       0\n",
      "downgrade_flag                     0\n",
      "churn_flag_x                       0\n",
      "billing_frequency                  0\n",
      "auto_renew_flag                    0\n",
      "account_name                       0\n",
      "industry                           0\n",
      "country                            0\n",
      "signup_date                        0\n",
      "referral_source                    0\n",
      "plan_tier_y                        0\n",
      "seats_y                            0\n",
      "is_trial_y                         0\n",
      "churn_flag_y                       0\n",
      "churn_event_id                     0\n",
      "churn_date                         0\n",
      "reason_code                        0\n",
      "refund_amount_usd                  0\n",
      "preceding_upgrade_flag         29841\n",
      "preceding_downgrade_flag       29841\n",
      "is_reactivation                29841\n",
      "feedback_text                      0\n",
      "ticket_id                          0\n",
      "submitted_at                       0\n",
      "closed_at                          0\n",
      "resolution_time_hours            461\n",
      "priority                           0\n",
      "first_response_time_minutes      461\n",
      "satisfaction_score                 0\n",
      "escalation_flag                  461\n",
      "usage_id                         260\n",
      "usage_date                       260\n",
      "feature_name                       0\n",
      "usage_count                        0\n",
      "usage_duration_secs                0\n",
      "error_count                        0\n",
      "is_beta_feature                  260\n",
      "dtype: int64\n"
     ]
    }
   ],
   "source": [
    "# checking\n",
    "print(df.isnull().sum())"
   ]
  },
  {
   "cell_type": "code",
   "execution_count": 42,
   "id": "e010fb76-13de-4790-b68b-cee3e33b380c",
   "metadata": {},
   "outputs": [],
   "source": [
    "# Upgrade or downgrade flag -> Null value is no churn event. so filling it with false\n",
    "df['preceding_upgrade_flag'] = df['preceding_upgrade_flag'].fillna(False)\n",
    "df['preceding_downgrade_flag'] = df['preceding_downgrade_flag'].fillna(False)"
   ]
  },
  {
   "cell_type": "code",
   "execution_count": 43,
   "id": "f402bd20-bedc-4208-87aa-c47d697ae977",
   "metadata": {},
   "outputs": [],
   "source": [
    "# reactivation -> null is no churn event. so filling False\n",
    "df['is_reactivation'] = df['is_reactivation'].fillna(False)"
   ]
  },
  {
   "cell_type": "code",
   "execution_count": 44,
   "id": "d4236bd6-6a67-4b93-8511-f716717906d5",
   "metadata": {},
   "outputs": [],
   "source": [
    "# escalation -> null is no ticket raised. so filling with False\n",
    "df['escalation_flag'] = df['escalation_flag'].fillna(False)"
   ]
  },
  {
   "cell_type": "code",
   "execution_count": 45,
   "id": "86b9f935-8f6a-4e73-bed1-590923ff184e",
   "metadata": {},
   "outputs": [],
   "source": [
    "# Beta feature -> null is no usage.\n",
    "df['is_beta_feature'] = df['is_beta_feature'].fillna(False)"
   ]
  },
  {
   "cell_type": "code",
   "execution_count": 46,
   "id": "433903a1-571f-4149-9f89-28087f70e422",
   "metadata": {},
   "outputs": [],
   "source": [
    "# time value nulls -> filling with 0\n",
    "df['resolution_time_hours'] = df['resolution_time_hours'].fillna(0)\n",
    "df['first_response_time_minutes'] = df['first_response_time_minutes'].fillna(0)"
   ]
  },
  {
   "cell_type": "code",
   "execution_count": 47,
   "id": "47ec55cc-76ea-4089-898a-b95cb8d25940",
   "metadata": {},
   "outputs": [],
   "source": [
    "# Usage data null -> filling with \"No Usage\"\n",
    "df['usage_id'] = df['usage_id'].fillna(\"No Usage\")\n",
    "df['usage_date'] = df['usage_date'].fillna(\"No Usage\")"
   ]
  },
  {
   "cell_type": "code",
   "execution_count": 50,
   "id": "3f4fcfd2-ff03-4649-9ea5-a21b477762b8",
   "metadata": {},
   "outputs": [
    {
     "name": "stdout",
     "output_type": "stream",
     "text": [
      "\n",
      " Null values after cleaning:\n",
      "subscription_id                0\n",
      "account_id                     0\n",
      "start_date                     0\n",
      "end_date                       0\n",
      "plan_tier_x                    0\n",
      "seats_x                        0\n",
      "mrr_amount                     0\n",
      "arr_amount                     0\n",
      "is_trial_x                     0\n",
      "upgrade_flag                   0\n",
      "downgrade_flag                 0\n",
      "churn_flag_x                   0\n",
      "billing_frequency              0\n",
      "auto_renew_flag                0\n",
      "account_name                   0\n",
      "industry                       0\n",
      "country                        0\n",
      "signup_date                    0\n",
      "referral_source                0\n",
      "plan_tier_y                    0\n",
      "seats_y                        0\n",
      "is_trial_y                     0\n",
      "churn_flag_y                   0\n",
      "churn_event_id                 0\n",
      "churn_date                     0\n",
      "reason_code                    0\n",
      "refund_amount_usd              0\n",
      "preceding_upgrade_flag         0\n",
      "preceding_downgrade_flag       0\n",
      "is_reactivation                0\n",
      "feedback_text                  0\n",
      "ticket_id                      0\n",
      "submitted_at                   0\n",
      "closed_at                      0\n",
      "resolution_time_hours          0\n",
      "priority                       0\n",
      "first_response_time_minutes    0\n",
      "satisfaction_score             0\n",
      "escalation_flag                0\n",
      "usage_id                       0\n",
      "usage_date                     0\n",
      "feature_name                   0\n",
      "usage_count                    0\n",
      "usage_duration_secs            0\n",
      "error_count                    0\n",
      "is_beta_feature                0\n",
      "dtype: int64\n"
     ]
    }
   ],
   "source": [
    "# Final Check\n",
    "print(\"\\n Null values after cleaning:\")\n",
    "print(df.isnull().sum())"
   ]
  },
  {
   "cell_type": "markdown",
   "id": "eb03a2a2-237a-44f2-9601-bf06bdba9b6e",
   "metadata": {},
   "source": [
    "All Null values have been corrected."
   ]
  },
  {
   "cell_type": "markdown",
   "id": "c6512216-8085-4f35-8f30-08489b39e355",
   "metadata": {},
   "source": [
    "**Checking for duplicates**"
   ]
  },
  {
   "cell_type": "code",
   "execution_count": 51,
   "id": "37daebaf-827a-442c-8540-fc90a7faca2f",
   "metadata": {},
   "outputs": [
    {
     "name": "stdout",
     "output_type": "stream",
     "text": [
      "0\n"
     ]
    }
   ],
   "source": [
    "print(df.duplicated().sum())"
   ]
  },
  {
   "cell_type": "markdown",
   "id": "eab20f35-e539-4273-84ab-b68b922c5fa5",
   "metadata": {},
   "source": [
    "No duplicates found."
   ]
  },
  {
   "cell_type": "code",
   "execution_count": 53,
   "id": "574b1579-1489-4b2e-90e8-c683cf3af0f2",
   "metadata": {},
   "outputs": [],
   "source": [
    "# In case, Removing rows where account_id or subscription_id values are missing\n",
    "df.dropna(subset=['account_id', 'subscription_id'], inplace=True)"
   ]
  },
  {
   "cell_type": "markdown",
   "id": "5a373b50-1759-4c8b-b3cd-e18a4d98ca28",
   "metadata": {},
   "source": [
    "**Changing Datatypes**"
   ]
  },
  {
   "cell_type": "code",
   "execution_count": 54,
   "id": "02a5aa4c-469c-488e-9a57-cbf154929f19",
   "metadata": {},
   "outputs": [
    {
     "data": {
      "text/plain": [
       "subscription_id                 object\n",
       "account_id                      object\n",
       "start_date                      object\n",
       "end_date                        object\n",
       "plan_tier_x                     object\n",
       "seats_x                          int64\n",
       "mrr_amount                       int64\n",
       "arr_amount                       int64\n",
       "is_trial_x                        bool\n",
       "upgrade_flag                      bool\n",
       "downgrade_flag                    bool\n",
       "churn_flag_x                      bool\n",
       "billing_frequency               object\n",
       "auto_renew_flag                   bool\n",
       "account_name                    object\n",
       "industry                        object\n",
       "country                         object\n",
       "signup_date                     object\n",
       "referral_source                 object\n",
       "plan_tier_y                     object\n",
       "seats_y                          int64\n",
       "is_trial_y                        bool\n",
       "churn_flag_y                      bool\n",
       "churn_event_id                  object\n",
       "churn_date                      object\n",
       "reason_code                     object\n",
       "refund_amount_usd              float64\n",
       "preceding_upgrade_flag            bool\n",
       "preceding_downgrade_flag          bool\n",
       "is_reactivation                   bool\n",
       "feedback_text                   object\n",
       "ticket_id                       object\n",
       "submitted_at                    object\n",
       "closed_at                       object\n",
       "resolution_time_hours          float64\n",
       "priority                        object\n",
       "first_response_time_minutes    float64\n",
       "satisfaction_score             float64\n",
       "escalation_flag                   bool\n",
       "usage_id                        object\n",
       "usage_date                      object\n",
       "feature_name                    object\n",
       "usage_count                    float64\n",
       "usage_duration_secs            float64\n",
       "error_count                    float64\n",
       "is_beta_feature                   bool\n",
       "dtype: object"
      ]
     },
     "execution_count": 54,
     "metadata": {},
     "output_type": "execute_result"
    }
   ],
   "source": [
    "df.dtypes"
   ]
  },
  {
   "cell_type": "code",
   "execution_count": 60,
   "id": "691aa24e-1e7d-47d0-bfe7-4b92fd411408",
   "metadata": {},
   "outputs": [],
   "source": [
    "# Converting Dates columns into datetime datatype\n",
    "date_cols = ['start_date', 'end_date', 'signup_date', \n",
    "             'churn_date', 'submitted_at', 'closed_at', 'usage_date']\n",
    "for col in date_cols:\n",
    "    df[col] = pd.to_datetime(df[col], errors='coerce')"
   ]
  },
  {
   "cell_type": "code",
   "execution_count": 59,
   "id": "59505a53-1649-4207-b013-cc3aeac19214",
   "metadata": {},
   "outputs": [],
   "source": [
    "# Converting IDs & Categories to String\n",
    "id_cols = ['subscription_id', 'account_id', 'churn_event_id', 'ticket_id', 'usage_id']\n",
    "cat_cols = ['account_name', 'industry', 'country', 'referral_source', 'plan_tier_x', 'plan_tier_y', 'reason_code', \n",
    "            'feature_name', 'feedback_text', 'priority']\n",
    "\n",
    "for col in id_cols + cat_cols:\n",
    "    df[col] = df[col].astype('string')\n"
   ]
  },
  {
   "cell_type": "code",
   "execution_count": 63,
   "id": "f1cf8a0e-337f-49f2-b68c-fcfaac215d06",
   "metadata": {},
   "outputs": [],
   "source": [
    "# Converting billing_frequency to categorical type\n",
    "df['billing_frequency'] = df['billing_frequency'].astype('category')\n"
   ]
  },
  {
   "cell_type": "code",
   "execution_count": 64,
   "id": "2f2cf33a-c31f-4078-936e-4f5ba199a15f",
   "metadata": {},
   "outputs": [
    {
     "data": {
      "text/plain": [
       "subscription_id                string[python]\n",
       "account_id                     string[python]\n",
       "start_date                     datetime64[ns]\n",
       "end_date                       datetime64[ns]\n",
       "plan_tier_x                    string[python]\n",
       "seats_x                                 int64\n",
       "mrr_amount                              int64\n",
       "arr_amount                              int64\n",
       "is_trial_x                               bool\n",
       "upgrade_flag                             bool\n",
       "downgrade_flag                           bool\n",
       "churn_flag_x                             bool\n",
       "billing_frequency                    category\n",
       "auto_renew_flag                          bool\n",
       "account_name                   string[python]\n",
       "industry                       string[python]\n",
       "country                        string[python]\n",
       "signup_date                    datetime64[ns]\n",
       "referral_source                string[python]\n",
       "plan_tier_y                    string[python]\n",
       "seats_y                                 int64\n",
       "is_trial_y                               bool\n",
       "churn_flag_y                             bool\n",
       "churn_event_id                 string[python]\n",
       "churn_date                     datetime64[ns]\n",
       "reason_code                    string[python]\n",
       "refund_amount_usd                     float64\n",
       "preceding_upgrade_flag                   bool\n",
       "preceding_downgrade_flag                 bool\n",
       "is_reactivation                          bool\n",
       "feedback_text                  string[python]\n",
       "ticket_id                      string[python]\n",
       "submitted_at                   datetime64[ns]\n",
       "closed_at                      datetime64[ns]\n",
       "resolution_time_hours                 float64\n",
       "priority                       string[python]\n",
       "first_response_time_minutes           float64\n",
       "satisfaction_score                    float64\n",
       "escalation_flag                          bool\n",
       "usage_id                       string[python]\n",
       "usage_date                     datetime64[ns]\n",
       "feature_name                   string[python]\n",
       "usage_count                           float64\n",
       "usage_duration_secs                   float64\n",
       "error_count                           float64\n",
       "is_beta_feature                          bool\n",
       "dtype: object"
      ]
     },
     "execution_count": 64,
     "metadata": {},
     "output_type": "execute_result"
    }
   ],
   "source": [
    "df.dtypes"
   ]
  },
  {
   "cell_type": "code",
   "execution_count": 66,
   "id": "1f7aa1af-2298-4dad-b07e-8e8ec0df9c1e",
   "metadata": {},
   "outputs": [],
   "source": [
    "df.to_csv(\"cleaned_saas_dataset.csv\", index=False)"
   ]
  },
  {
   "cell_type": "markdown",
   "id": "5c8cde68-7504-4018-82cf-5e6c4a0b5cc2",
   "metadata": {},
   "source": [
    "Re-checking Null values "
   ]
  },
  {
   "cell_type": "code",
   "execution_count": 67,
   "id": "79609a67-78d7-4e7b-bbb7-0a9d175e396c",
   "metadata": {},
   "outputs": [
    {
     "name": "stdout",
     "output_type": "stream",
     "text": [
      "subscription_id                     0\n",
      "account_id                          0\n",
      "start_date                          0\n",
      "end_date                       133296\n",
      "plan_tier_x                         0\n",
      "seats_x                             0\n",
      "mrr_amount                          0\n",
      "arr_amount                          0\n",
      "is_trial_x                          0\n",
      "upgrade_flag                        0\n",
      "downgrade_flag                      0\n",
      "churn_flag_x                        0\n",
      "billing_frequency                   0\n",
      "auto_renew_flag                     0\n",
      "account_name                        0\n",
      "industry                            0\n",
      "country                             0\n",
      "signup_date                         0\n",
      "referral_source                     0\n",
      "plan_tier_y                         0\n",
      "seats_y                             0\n",
      "is_trial_y                          0\n",
      "churn_flag_y                        0\n",
      "churn_event_id                      0\n",
      "churn_date                      29841\n",
      "reason_code                         0\n",
      "refund_amount_usd                   0\n",
      "preceding_upgrade_flag              0\n",
      "preceding_downgrade_flag            0\n",
      "is_reactivation                     0\n",
      "feedback_text                       0\n",
      "ticket_id                           0\n",
      "submitted_at                      461\n",
      "closed_at                         461\n",
      "resolution_time_hours               0\n",
      "priority                            0\n",
      "first_response_time_minutes         0\n",
      "satisfaction_score                  0\n",
      "escalation_flag                     0\n",
      "usage_id                            0\n",
      "usage_date                        260\n",
      "feature_name                        0\n",
      "usage_count                         0\n",
      "usage_duration_secs                 0\n",
      "error_count                         0\n",
      "is_beta_feature                     0\n",
      "dtype: int64\n"
     ]
    }
   ],
   "source": [
    "print(df.isnull().sum())"
   ]
  },
  {
   "cell_type": "markdown",
   "id": "5c6fa2ce-1025-4fd0-aa9d-60f784b8cc2c",
   "metadata": {},
   "source": [
    "Since datatypes of date columns have changed, values filled before is replaced to null again. "
   ]
  },
  {
   "cell_type": "markdown",
   "id": "cec8eb65-bbe7-4511-a70d-ec1fdd94230b",
   "metadata": {},
   "source": [
    "*For visualisation purposes, instead of correcting the new emerged null values, new columns can be derived from the existing columns*"
   ]
  },
  {
   "cell_type": "code",
   "execution_count": 68,
   "id": "f4711684-c4f8-4a2a-8176-1e2f4ab81d89",
   "metadata": {},
   "outputs": [],
   "source": [
    "# Converting \"NULL\", \"N/A\", or empty strings into proper NaT during conversion\n",
    "\n",
    "date_cols = ['end_date', 'churn_date', 'submitted_at', 'closed_at', 'usage_date']\n",
    "\n",
    "for col in date_cols:\n",
    "    df[col] = pd.to_datetime(df[col], errors='coerce')  # forces invalid values to NaT"
   ]
  },
  {
   "cell_type": "markdown",
   "id": "c83cc95a-896d-47f3-bdfc-162d93923a9e",
   "metadata": {},
   "source": [
    "**Adding new columns**"
   ]
  },
  {
   "cell_type": "code",
   "execution_count": 70,
   "id": "3847891a-a77f-4698-ac9f-9d4141ec1c2c",
   "metadata": {},
   "outputs": [],
   "source": [
    "# Creating useful flag columns for visualization\n",
    "\n",
    "df['is_active'] = df['end_date'].isna()\n",
    "df['is_churned'] = df['churn_date'].notna()\n",
    "df['has_ticket'] = df['submitted_at'].notna()\n",
    "df['ticket_closed'] = df['closed_at'].notna()\n",
    "df['has_usage'] = df['usage_date'].notna()"
   ]
  },
  {
   "cell_type": "markdown",
   "id": "d0e82a66-8f70-42bb-a510-122fe60c8941",
   "metadata": {},
   "source": [
    "Flag columns above has been created to remove the inconsistensies arising due to the null values in date columns"
   ]
  },
  {
   "cell_type": "code",
   "execution_count": 71,
   "id": "53c7ff6f-3b8a-4554-bb3e-af33ec2ba466",
   "metadata": {},
   "outputs": [],
   "source": [
    "df.to_csv(\"cleaned_saas_dataset1.csv\", index=False)"
   ]
  },
  {
   "cell_type": "code",
   "execution_count": 72,
   "id": "d0093715-6c32-4b2d-8069-079d6b656a81",
   "metadata": {},
   "outputs": [],
   "source": [
    "# 1. Subscription duration (days)\n",
    "today = pd.to_datetime(\"today\")\n",
    "df['subscription_duration_days'] = ( df['end_date'].fillna(today) - df['start_date']).dt.days"
   ]
  },
  {
   "cell_type": "code",
   "execution_count": 74,
   "id": "8b5828c6-bc04-4d7e-ad40-79b1e066c65b",
   "metadata": {},
   "outputs": [],
   "source": [
    "# 3. Revenue per seat\n",
    "df['revenue_per_seat'] = np.where(\n",
    "    df['seats_x'] > 0, \n",
    "    df['mrr_amount'] / df['seats_x'], 0)"
   ]
  },
  {
   "cell_type": "code",
   "execution_count": 75,
   "id": "88a2ac7d-9ee0-4759-823d-239ff13b3c68",
   "metadata": {},
   "outputs": [],
   "source": [
    "# 4. Churn reason flag\n",
    "df['churn_reason_flag'] = np.where(df['reason_code'] != \"Not churned\", 1, 0)"
   ]
  },
  {
   "cell_type": "code",
   "execution_count": 76,
   "id": "e634f645-e1c2-4cca-8b3f-65dacb090b0f",
   "metadata": {},
   "outputs": [],
   "source": [
    "# 5. Support ticket flag\n",
    "df['support_ticket_flag'] = np.where( df['ticket_id'] != \"No Ticket\", 1, 0)\n"
   ]
  },
  {
   "cell_type": "code",
   "execution_count": 77,
   "id": "037914a4-be78-4d04-8453-39aa896a7f5a",
   "metadata": {},
   "outputs": [],
   "source": [
    "# 6. Average usage per day\n",
    "df['avg_usage_per_day'] = np.where(\n",
    "    df['subscription_duration_days'] > 0,\n",
    "    df['usage_count'] / df['subscription_duration_days'],\n",
    "    0)"
   ]
  },
  {
   "cell_type": "code",
   "execution_count": 78,
   "id": "a28fcf70-57d2-434b-a729-00358e742aed",
   "metadata": {},
   "outputs": [],
   "source": [
    "# 7. Error rate\n",
    "df['error_rate'] = np.where(\n",
    "    df['usage_count'] > 0,\n",
    "    df['error_count'] / df['usage_count'],\n",
    "    0)"
   ]
  },
  {
   "cell_type": "code",
   "execution_count": 80,
   "id": "0b320037-bc40-48b4-bed5-d7732a8f2e25",
   "metadata": {},
   "outputs": [],
   "source": [
    "# 8. High-value accounts (ARR threshold = 10,000)\n",
    "df['is_high_value_account'] = np.where(\n",
    "   df['arr_amount'] >= 10000, 1, 0)"
   ]
  },
  {
   "cell_type": "code",
   "execution_count": 81,
   "id": "e39074a7-a9cb-4007-be68-abfca5a57312",
   "metadata": {},
   "outputs": [
    {
     "name": "stdout",
     "output_type": "stream",
     "text": [
      "   is_active  is_churned  has_ticket  ticket_closed  has_usage  \\\n",
      "0      False       False        True           True       True   \n",
      "1      False       False        True           True       True   \n",
      "2      False       False        True           True       True   \n",
      "3      False       False        True           True       True   \n",
      "4      False       False        True           True       True   \n",
      "\n",
      "   subscription_duration_days  revenue_per_seat  churn_reason_flag  \\\n",
      "0                         111             199.0                  0   \n",
      "1                         111             199.0                  0   \n",
      "2                         111             199.0                  0   \n",
      "3                         111             199.0                  0   \n",
      "4                         111             199.0                  0   \n",
      "\n",
      "   support_ticket_flag  avg_usage_per_day  error_rate  is_high_value_account  \n",
      "0                    1           0.135135    0.066667                      1  \n",
      "1                    1           0.054054    0.000000                      1  \n",
      "2                    1           0.090090    0.100000                      1  \n",
      "3                    1           0.045045    0.000000                      1  \n",
      "4                    1           0.135135    0.000000                      1  \n"
     ]
    }
   ],
   "source": [
    "# Preview new columns\n",
    "print(df[[\n",
    "    'is_active','is_churned','has_ticket','ticket_closed', 'has_usage', 'subscription_duration_days', 'revenue_per_seat',\n",
    "    'churn_reason_flag', 'support_ticket_flag',\n",
    "    'avg_usage_per_day', 'error_rate', 'is_high_value_account'\n",
    "]].head())"
   ]
  },
  {
   "cell_type": "code",
   "execution_count": 82,
   "id": "16a27667-6d4b-4dd1-8602-9b87ed74ffd4",
   "metadata": {},
   "outputs": [],
   "source": [
    "df.to_csv(\"enhanced_saas_dataset.csv\", index=False)"
   ]
  },
  {
   "cell_type": "markdown",
   "id": "b20e73dd-57cc-4497-8292-22ae8432b607",
   "metadata": {},
   "source": [
    "## Data Visualisations"
   ]
  },
  {
   "cell_type": "code",
   "execution_count": 6,
   "id": "adc627ed-b6cc-4124-af31-4644ddc6f36c",
   "metadata": {},
   "outputs": [],
   "source": [
    "import matplotlib.pyplot as plt\n",
    "import seaborn as sns"
   ]
  },
  {
   "cell_type": "markdown",
   "id": "f075a26d-ccb5-496a-8ecc-9dd773975091",
   "metadata": {},
   "source": [
    "Loading Dataset"
   ]
  },
  {
   "cell_type": "code",
   "execution_count": 7,
   "id": "6ed2e5b4-4ca2-4f26-8010-94bb9cedfcad",
   "metadata": {},
   "outputs": [],
   "source": [
    "df = pd.read_csv(\"enhanced_saas_dataset.csv\", low_memory=False)"
   ]
  },
  {
   "cell_type": "markdown",
   "id": "346c5496-18b5-49dd-bc87-416d49d612b6",
   "metadata": {},
   "source": [
    "### Churn Distribution"
   ]
  },
  {
   "cell_type": "markdown",
   "id": "a0965078-756d-45d1-8506-8ce22eec0f8e",
   "metadata": {},
   "source": [
    "Churn rate is the lifeline metric of SaaS. \n",
    "A proper churn analysis is essential for wholistic development."
   ]
  },
  {
   "cell_type": "code",
   "execution_count": 41,
   "id": "e1da692e-0347-4382-8869-0ca15c3019b1",
   "metadata": {},
   "outputs": [
    {
     "data": {
      "image/png": "[encoded data removed]",
      "text/plain": [
       "<Figure size 500x500 with 1 Axes>"
      ]
     },
     "metadata": {},
     "output_type": "display_data"
    }
   ],
   "source": [
    "plt.figure(figsize=(5,5))\n",
    "df['is_churned'].value_counts().plot(kind='pie', labels=['Churned', 'Active'], autopct='%1.1f%%', colors=['cyan','yellow'])\n",
    "plt.title(\"Churned vs Active Customers\")\n",
    "plt.show()"
   ]
  },
  {
   "cell_type": "markdown",
   "id": "148abaae-094f-4d36-b842-90ab0fe008cf",
   "metadata": {},
   "source": [
    "**Insight :** Out of total customer pool, **80% are churned**. Only around 20% customers have remained Active."
   ]
  },
  {
   "cell_type": "markdown",
   "id": "4ea82412-a7a0-4f4f-9c0c-66af70c53c81",
   "metadata": {},
   "source": [
    "### Churn Reasons"
   ]
  },
  {
   "cell_type": "markdown",
   "id": "31fd5e05-60c1-4785-b6a4-82ed6101291d",
   "metadata": {},
   "source": [
    "Understanding reasons for churn can be helpful to identify top issues."
   ]
  },
  {
   "cell_type": "code",
   "execution_count": 46,
   "id": "415aafbd-3e90-4409-977a-e6bc2433fcf3",
   "metadata": {},
   "outputs": [
    {
     "data": {
      "image/png": "[encoded data removed]",
      "text/plain": [
       "<Figure size 1000x600 with 1 Axes>"
      ]
     },
     "metadata": {},
     "output_type": "display_data"
    }
   ],
   "source": [
    "plt.figure(figsize=(10,6))\n",
    "\n",
    "# To remove \"Not churned\" before counting the reasons\n",
    "df[df['reason_code'] != \"Not churned\"][\"reason_code\"].value_counts().head(10).plot(kind='bar', color=\"teal\")\n",
    "\n",
    "plt.title(\"Top 10 Churn Reasons\")\n",
    "plt.xlabel(\"Reason Code\")\n",
    "plt.ylabel(\"Count\")\n",
    "plt.show()"
   ]
  },
  {
   "cell_type": "markdown",
   "id": "d2de2683-29e3-4e66-aec7-2b291a2f7fb8",
   "metadata": {},
   "source": [
    "**Insights :** Improving the **features of the products** can reduce churn rate. Also, **better customer support and user friendly budget plans** can improve customer retention."
   ]
  },
  {
   "cell_type": "markdown",
   "id": "e6a01ccf-8121-4d37-9dd7-aec34096c52c",
   "metadata": {},
   "source": [
    "### Revenue Breakdown"
   ]
  },
  {
   "cell_type": "markdown",
   "id": "d3b8b0d4-12cf-4cf8-be0f-50247da7a024",
   "metadata": {},
   "source": [
    "Helps to identify which plan constitutes more in revenue"
   ]
  },
  {
   "cell_type": "code",
   "execution_count": 33,
   "id": "2ee3cf59-fc73-4ff8-9eac-e70905e03cc7",
   "metadata": {},
   "outputs": [
    {
     "data": {
      "image/png": "[encoded data removed]",
      "text/plain": [
       "<Figure size 1000x800 with 1 Axes>"
      ]
     },
     "metadata": {},
     "output_type": "display_data"
    }
   ],
   "source": [
    "plt.figure(figsize=(10,8))\n",
    "sns.boxplot(x=\"plan_tier_x\",y=\"mrr_amount\", data=df, color=\"brown\")\n",
    "plt.title(\"MRR Distribution by Plan Tier\")\n",
    "plt.xlabel(\"Plan Tier\")\n",
    "plt.ylabel(\"Monthly Recurring Revenue (MRR)\")\n",
    "plt.show()"
   ]
  },
  {
   "cell_type": "markdown",
   "id": "94c4a391-1e8f-4528-9362-76f1fc9cb8f8",
   "metadata": {},
   "source": [
    "**Insights :** Monthly Recurring Revenue generated from **Enterprise tier is nearly twice** of Pro-Plan and Basic Plan combined. Properly **optimising price range** and focusing of **upsell strategy** on Enterprise plan tier can increase the Revenue Generation "
   ]
  },
  {
   "cell_type": "markdown",
   "id": "81b80d2b-399d-4bc7-942d-dcedffc2453a",
   "metadata": {},
   "source": [
    "### Subcription Duration"
   ]
  },
  {
   "cell_type": "markdown",
   "id": "0f4b8dc0-1f78-4339-bf39-1f36aa9671da",
   "metadata": {},
   "source": [
    "Shows the Duration of customers stay before churning"
   ]
  },
  {
   "cell_type": "code",
   "execution_count": 28,
   "id": "7266e20e-f30f-42e5-9a80-c53065cd4b6a",
   "metadata": {},
   "outputs": [
    {
     "data": {
      "image/png": "[encoded data removed]",
      "text/plain": [
       "<Figure size 800x600 with 1 Axes>"
      ]
     },
     "metadata": {},
     "output_type": "display_data"
    }
   ],
   "source": [
    "plt.figure(figsize=(8,6))\n",
    "sns.histplot(df[\"subscription_duration_days\"], bins=50, kde=True, color=\"green\")\n",
    "plt.title(\"Customer Subscription Duration\")\n",
    "plt.xlabel(\"Days\")\n",
    "plt.ylabel(\"Number of Customers\")\n",
    "plt.show()"
   ]
  },
  {
   "cell_type": "markdown",
   "id": "237d0378-b1d0-43a0-bd0f-4549236326d3",
   "metadata": {},
   "source": [
    "**Insights :** There is huge spike of **customer churning right after 200 days** of subscription. **Introducing rewards and offers** for subscribers who remains active for 200 days can reduce this churn spike."
   ]
  },
  {
   "cell_type": "markdown",
   "id": "494e6463-8f47-4b05-95a3-f6fee34172d7",
   "metadata": {},
   "source": [
    "### Geographic Analysis"
   ]
  },
  {
   "cell_type": "markdown",
   "id": "196f8388-7f33-489f-a4c7-bb311a01dfed",
   "metadata": {},
   "source": [
    "Helps to understand the Market penetration on different countries"
   ]
  },
  {
   "cell_type": "code",
   "execution_count": 11,
   "id": "1c05319e-80e8-45b6-bb79-b53ee358885a",
   "metadata": {},
   "outputs": [
    {
     "data": {
      "image/png": "[encoded data removed]",
      "text/plain": [
       "<Figure size 1000x600 with 1 Axes>"
      ]
     },
     "metadata": {},
     "output_type": "display_data"
    }
   ],
   "source": [
    "plt.figure(figsize=(10,6))\n",
    "top_countries = df.groupby(\"country\")[\"mrr_amount\"].sum().nlargest(10)\n",
    "top_countries.plot(kind=\"pie\", autopct='%1.1f%%', color=['brown',\"red\",'orange','yellow','green','blue','indigo'])\n",
    "plt.title(\"Top 10 Countries by Revenue (MRR)\")\n",
    "plt.xlabel(\"Country\")\n",
    "plt.ylabel(\"\")\n",
    "plt.show()"
   ]
  },
  {
   "cell_type": "markdown",
   "id": "68269244-54e0-44fc-8a08-e1aec634fdc5",
   "metadata": {},
   "source": [
    "**Insights :** Around **60% share of revenue** is generated solely from **United States of America**. US specific plans and offers are more likely to benefit in Revenue generation."
   ]
  },
  {
   "cell_type": "markdown",
   "id": "b1d246f6-4d97-43ee-beb3-9543e0e25e29",
   "metadata": {},
   "source": [
    "### Churn Rate by Industry"
   ]
  },
  {
   "cell_type": "markdown",
   "id": "5b0a3214-e51f-442f-bfbd-da98540daa0c",
   "metadata": {},
   "source": [
    "Helps to identify industry segments that churns more"
   ]
  },
  {
   "cell_type": "code",
   "execution_count": 15,
   "id": "5f0a917b-421c-429e-9dd0-8473fb78e9c3",
   "metadata": {},
   "outputs": [
    {
     "data": {
      "image/png": "[encoded data removed]",
      "text/plain": [
       "<Figure size 1000x600 with 1 Axes>"
      ]
     },
     "metadata": {},
     "output_type": "display_data"
    }
   ],
   "source": [
    "plt.figure(figsize=(10,6))\n",
    "industry_churn = df.groupby(\"industry\")[\"is_churned\"].mean().sort_values(ascending=False)\n",
    "industry_churn.plot(kind=\"pie\", autopct='%1.1f%%', color =[\"violet\",\"indigo\",'blue','green','yellow',], wedgeprops=dict(width=0.6))\n",
    "plt.title(\"Churn Rate by Industry\")\n",
    "plt.xlabel(\"Industry\")\n",
    "plt.ylabel(\"\")\n",
    "plt.show()"
   ]
  },
  {
   "cell_type": "markdown",
   "id": "0d230826-ac8f-4b8a-83d3-51a77f4a168f",
   "metadata": {},
   "source": [
    "**Insights :** Churn rate is **highest in EdTech Industry** and **lowest in HealthTech Industry** with relatively small difference of 2%. Targeting more stabled HealthTech industry will be beneficial for growth. "
   ]
  },
  {
   "cell_type": "markdown",
   "id": "5ca14c56-7c9b-45b4-84c9-0a7b152b8415",
   "metadata": {},
   "source": [
    "### Feature Usage"
   ]
  },
  {
   "cell_type": "markdown",
   "id": "2cb4ddc5-6a15-438e-b70e-b5b428619c2c",
   "metadata": {},
   "source": [
    "Helps in identifying the features that customers loves the most"
   ]
  },
  {
   "cell_type": "code",
   "execution_count": 47,
   "id": "d0f11beb-ad93-49c4-8e90-b31bf536638a",
   "metadata": {},
   "outputs": [
    {
     "data": {
      "image/png": "[encoded data removed]",
      "text/plain": [
       "<Figure size 1000x600 with 1 Axes>"
      ]
     },
     "metadata": {},
     "output_type": "display_data"
    }
   ],
   "source": [
    "plt.figure(figsize=(10,6))\n",
    "top_features = df[\"feature_name\"].value_counts().head(10)\n",
    "sns.barplot(x=top_features.values, y=top_features.index, hue=top_features.index, palette='viridis')\n",
    "plt.title(\"Top 10 Most Used Features\")\n",
    "plt.xlabel(\"Usage Count\")\n",
    "plt.ylabel(\"Feature\")\n",
    "plt.show()"
   ]
  },
  {
   "cell_type": "markdown",
   "id": "4b9e4455-778d-4868-8381-ca0d084c2172",
   "metadata": {},
   "source": [
    "**Insights :** Feature 32 is the most used feature followed by feature 31 and feature 12 "
   ]
  },
  {
   "cell_type": "markdown",
   "id": "258585bb-7c1e-451f-9ad9-03bbc05c42bc",
   "metadata": {},
   "source": [
    "### Support and Satisfaction"
   ]
  },
  {
   "cell_type": "markdown",
   "id": "0b90c58a-ab88-4c37-aeb3-f4065da5488a",
   "metadata": {},
   "source": [
    "Helps to identify relationship between resolution time and customer satisfaction"
   ]
  },
  {
   "cell_type": "code",
   "execution_count": 7,
   "id": "0fd9fb8f-60d5-47fd-9a1e-67993414e679",
   "metadata": {},
   "outputs": [
    {
     "data": {
      "image/png": "[encoded data removed]",
      "text/plain": [
       "<Figure size 800x600 with 1 Axes>"
      ]
     },
     "metadata": {},
     "output_type": "display_data"
    }
   ],
   "source": [
    "plt.figure(figsize=(8,6))\n",
    "sns.scatterplot(x=\"resolution_time_hours\",y=\"satisfaction_score\", data=df, color=\"red\")\n",
    "plt.title(\"Resolution Time vs Customer Satisfaction\")\n",
    "plt.xlabel(\"Resolution Time (hours)\")\n",
    "plt.ylabel(\"Satisfaction Score\")\n",
    "plt.show()"
   ]
  },
  {
   "cell_type": "markdown",
   "id": "7908f554-aa21-41d4-b815-ddb3e0d1ab49",
   "metadata": {},
   "source": [
    "**Insights :** There is **no direct relationship** visible between resolution hours and customer satisfaction. However, majority of the customers has given **average satisfaction score of 4** irrespective of resolution time taken."
   ]
  },
  {
   "cell_type": "markdown",
   "id": "7cf7ecc5-7865-46e2-a1cf-946ca917b7f6",
   "metadata": {},
   "source": [
    "### Error rate for Churned vs Active Customers"
   ]
  },
  {
   "cell_type": "markdown",
   "id": "5f447870-445b-4374-8990-b50d3ce25f62",
   "metadata": {},
   "source": [
    "Helps to understand how bugs affect customer retention."
   ]
  },
  {
   "cell_type": "code",
   "execution_count": 8,
   "id": "03640f14-608d-442e-9988-d426790f5111",
   "metadata": {},
   "outputs": [
    {
     "data": {
      "image/png": "[encoded data removed]",
      "text/plain": [
       "<Figure size 600x500 with 1 Axes>"
      ]
     },
     "metadata": {},
     "output_type": "display_data"
    }
   ],
   "source": [
    "plt.figure(figsize=(6,5))\n",
    "sns.boxplot(x=\"is_churned\",y=\"error_rate\", color=\"purple\", data=df)\n",
    "plt.title(\"Error Rate vs Churn Status\")\n",
    "plt.xlabel(\"Churn Status (False = Active, True = Churned)\")\n",
    "plt.ylabel(\"Error Rate\")\n",
    "plt.show()"
   ]
  },
  {
   "cell_type": "markdown",
   "id": "a5aaaf9a-aca6-49c1-b791-4aad483aa31d",
   "metadata": {},
   "source": [
    "**Insights :** The trend shows an **increase in Customer churn** when error rate exceeds **above 1%**. Keeping error rate below 1% is Optimal. "
   ]
  },
  {
   "cell_type": "markdown",
   "id": "b8a300eb-a51a-42e7-8705-36eb4290eefa",
   "metadata": {},
   "source": [
    "### High-Value Accounts"
   ]
  },
  {
   "cell_type": "markdown",
   "id": "d48e6f86-6881-4e62-adee-d148075dc702",
   "metadata": {},
   "source": [
    "Helps to understand the churn rate among high-value users"
   ]
  },
  {
   "cell_type": "code",
   "execution_count": 49,
   "id": "d5fa401e-f051-4432-aac9-96241c544964",
   "metadata": {},
   "outputs": [
    {
     "data": {
      "image/png": "[encoded data removed]",
      "text/plain": [
       "<Figure size 600x500 with 1 Axes>"
      ]
     },
     "metadata": {},
     "output_type": "display_data"
    }
   ],
   "source": [
    "plt.figure(figsize=(6,5))\n",
    "sns.countplot(x=\"is_high_value_account\", hue=\"is_churned\", palette=\"coolwarm\", data=df)\n",
    "plt.title(\"Churn Among Hign-Value Accounts\")\n",
    "plt.xlabel(\"High Value Account (0=No, 1=Yes)\")\n",
    "plt.ylabel(\"Count\")\n",
    "plt.legend(title=\"Churn Status\", labels=[\"Active\",\"Churned\"])\n",
    "plt.show()"
   ]
  },
  {
   "cell_type": "markdown",
   "id": "f6d40e11-35d6-4a3e-8b1c-45ef7a2ecc46",
   "metadata": {},
   "source": [
    "**Insights:** Churn rate is **slightly higher in premium accounts** than normal accounts with a **difference of around 5%**.  "
   ]
  },
  {
   "cell_type": "markdown",
   "id": "5e83f01d-84a5-4a7b-ba2f-eedf0a84357d",
   "metadata": {},
   "source": [
    "### Upgrade vs Downgrade Trends"
   ]
  },
  {
   "cell_type": "markdown",
   "id": "d55b79d5-3bad-4f99-95fa-f20e3d26caaf",
   "metadata": {},
   "source": [
    "Shows whether the customers are moving up or down in plans."
   ]
  },
  {
   "cell_type": "code",
   "execution_count": 50,
   "id": "5103c998-e778-4925-834e-2f66fcff1958",
   "metadata": {},
   "outputs": [
    {
     "data": {
      "image/png": "[encoded data removed]",
      "text/plain": [
       "<Figure size 800x500 with 1 Axes>"
      ]
     },
     "metadata": {},
     "output_type": "display_data"
    },
    {
     "data": {
      "image/png": "[encoded data removed]",
      "text/plain": [
       "<Figure size 640x480 with 1 Axes>"
      ]
     },
     "metadata": {},
     "output_type": "display_data"
    }
   ],
   "source": [
    "plt.figure(figsize=(8,5))\n",
    "upgrade_counts = df[\"upgrade_flag\"].value_counts()\n",
    "downgrade_counts = df[\"downgrade_flag\"].value_counts()\n",
    "\n",
    "# Upgrades plot\n",
    "sns.countplot(x=\"upgrade_flag\", color = 'cyan', data=df)\n",
    "plt.title(\"Customer Upgrades\")\n",
    "plt.xlabel(\"Upgrade Status (False = No, True = Yes)\")\n",
    "plt.ylabel(\"Count\")\n",
    "plt.show()\n",
    "\n",
    "# Downgrades Plot\n",
    "sns.countplot(x=\"downgrade_flag\", color = 'teal',  data=df)\n",
    "plt.title(\"Customer Downgrades\")\n",
    "plt.xlabel(\"Downgrade Status (False = No, True = Yes)\")\n",
    "plt.ylabel(\"Count\")\n",
    "plt.show()"
   ]
  },
  {
   "cell_type": "markdown",
   "id": "328d868e-db8b-4881-9071-bf7aba0b2b9e",
   "metadata": {},
   "source": [
    "**Insights:** Vast majority of users neither upgrades nor downgrades their plan. But out of those users who changes plan, **Upgrading users outweigh downgrading users by almost two folds**."
   ]
  },
  {
   "cell_type": "markdown",
   "id": "409edc60-a33d-4052-b8f9-b3f3c8a24216",
   "metadata": {},
   "source": [
    "### Trail Conversion Rate"
   ]
  },
  {
   "cell_type": "markdown",
   "id": "0af1b3fc-60f6-4531-bb7b-ab64cdcd764a",
   "metadata": {},
   "source": [
    "Helps to check whether free trails are converting into paying customers."
   ]
  },
  {
   "cell_type": "code",
   "execution_count": 15,
   "id": "6bb4d3d3-3539-464a-b819-26e24eb897a3",
   "metadata": {},
   "outputs": [
    {
     "data": {
      "image/png": "[encoded data removed]",
      "text/plain": [
       "<Figure size 600x500 with 1 Axes>"
      ]
     },
     "metadata": {},
     "output_type": "display_data"
    }
   ],
   "source": [
    "plt.figure(figsize=(6,5))\n",
    "trial_conv = df.groupby(\"is_trial_y\")[\"is_churned\"].mean()\n",
    "\n",
    "trial_conv.plot(kind=\"bar\",  color=['green','purple'])\n",
    "plt.title(\"Churn Rate: Trial vs Paid Users\")\n",
    "plt.xlabel(\"Trial Users (False = No, True = Yes)\")\n",
    "plt.ylabel(\"Churn Rate (%)\")\n",
    "plt.show()"
   ]
  },
  {
   "cell_type": "markdown",
   "id": "a3c4b9f6-cfe3-4bd5-8f0c-839ea247605e",
   "metadata": {},
   "source": [
    "**Insights :** Churn rate of trial users is **almost 75%** which shows the **weak flow in onboarding**. Churn rate in trial users is lower than in paid users, but only by a difference of around 5%. "
   ]
  },
  {
   "cell_type": "markdown",
   "id": "aadc6ae5-d9d1-4971-a851-15074181c72c",
   "metadata": {},
   "source": [
    "### Churn vs Subscription Duration"
   ]
  },
  {
   "cell_type": "markdown",
   "id": "cf4edce5-46ca-4a6c-9127-5f8133c37eeb",
   "metadata": {},
   "source": [
    "This graph confirms if short-lived users churn more."
   ]
  },
  {
   "cell_type": "code",
   "execution_count": 44,
   "id": "e82de0f4-ad6c-4159-b82b-f5e4ce341400",
   "metadata": {},
   "outputs": [
    {
     "data": {
      "image/png": "[encoded data removed]",
      "text/plain": [
       "<Figure size 800x600 with 1 Axes>"
      ]
     },
     "metadata": {},
     "output_type": "display_data"
    }
   ],
   "source": [
    "plt.figure(figsize=(8,6))\n",
    "sns.boxplot(x=\"is_churned\",y=\"subscription_duration_days\", color ='orange', data=df)\n",
    "plt.title(\"Subscription Duration vs Churn\")\n",
    "plt.xlabel(\"Churn Status (False = Active, True = Churned)\")\n",
    "plt.ylabel(\"Duration (days)\")\n",
    "plt.show()"
   ]
  },
  {
   "cell_type": "markdown",
   "id": "918d4d6c-ca0f-48c1-b9c6-327996da1076",
   "metadata": {},
   "source": [
    "**Insights :** Average subscription duration for both Active and Churn Users **lies between 300 to 500 days**. A slight increase in user churn is seen after 800 days of subscription. "
   ]
  },
  {
   "cell_type": "markdown",
   "id": "a39e5440-be46-47a5-8908-f70310d73f7b",
   "metadata": {},
   "source": [
    "### Downgrade Impact on Churn"
   ]
  },
  {
   "cell_type": "markdown",
   "id": "64e43e7c-7b8f-4021-851e-1f2117181116",
   "metadata": {},
   "source": [
    "Helps to understand whether plan downgrades implies a warning signal for churn"
   ]
  },
  {
   "cell_type": "code",
   "execution_count": 35,
   "id": "c7b437df-9e4a-4cbb-aa9e-34e832edf2fa",
   "metadata": {},
   "outputs": [
    {
     "data": {
      "image/png": "[encoded data removed]",
      "text/plain": [
       "<Figure size 800x600 with 1 Axes>"
      ]
     },
     "metadata": {},
     "output_type": "display_data"
    }
   ],
   "source": [
    "plt.figure(figsize=(8,6))\n",
    "sns.barplot(x=\"downgrade_flag\", y=\"is_churned\",color = \"green\", data=df)\n",
    "plt.title(\"Churn Rate: Downgraded vs Non-downgraded Users\")\n",
    "plt.xlabel(\"Downgrade Status (False = Non-downgraded, True = Downgraded)\")\n",
    "plt.ylabel(\"Churn Rate (%)\")\n",
    "plt.show()"
   ]
  },
  {
   "cell_type": "markdown",
   "id": "4dbd7825-9351-4da0-bb0c-aed80eef3fe3",
   "metadata": {},
   "source": [
    "**Insights :** Around **80% of the downgraded users have churned**. But at the same time, the difference of churn rate between Non-downgraded users and downgraded users is less than 5%. "
   ]
  },
  {
   "cell_type": "markdown",
   "id": "63c41087-ecc8-416e-8847-44eadf3ed58f",
   "metadata": {},
   "source": [
    "### Revenue at Risk"
   ]
  },
  {
   "cell_type": "markdown",
   "id": "c2b7c7b9-eae4-46cc-a798-1074ad2ded8b",
   "metadata": {},
   "source": [
    "Helps in calculating revenue lost due to churn"
   ]
  },
  {
   "cell_type": "code",
   "execution_count": 26,
   "id": "193449d9-613c-43e9-a119-b949bd1d87e4",
   "metadata": {},
   "outputs": [
    {
     "data": {
      "image/png": "[encoded data removed]",
      "text/plain": [
       "<Figure size 800x600 with 1 Axes>"
      ]
     },
     "metadata": {},
     "output_type": "display_data"
    }
   ],
   "source": [
    "plt.figure(figsize=(8,6))\n",
    "lost_revenue = df[df[\"is_churned\"]==1][\"arr_amount\"].sum()\n",
    "active_revenue = df[df[\"is_churned\"]==0][\"arr_amount\"].sum()\n",
    "\n",
    "plt.bar([\"Active Revenue\",\"Lost to Churn\"],[active_revenue, lost_revenue],)\n",
    "plt.title(\"Revenue at Risk from Churn\")\n",
    "plt.ylabel(\"ARR ($)\")\n",
    "plt.show()"
   ]
  },
  {
   "cell_type": "markdown",
   "id": "0b72d72a-3ea1-4b4a-87cf-24ff613595d1",
   "metadata": {},
   "source": [
    "**Insights :** Revenue lost to churn amounts to **almost three times** of Active Revenue. Major intervention is needed for customer retention to prevent the revenue loss."
   ]
  },
  {
   "cell_type": "markdown",
   "id": "ff59f113-87d8-4e09-9810-ef2f639a92ee",
   "metadata": {},
   "source": [
    "### Churn Rate by Plan type"
   ]
  },
  {
   "cell_type": "markdown",
   "id": "cc569137-2d51-4a15-92b0-def4a8e87929",
   "metadata": {},
   "source": [
    "To compare the churn rate among different plan types."
   ]
  },
  {
   "cell_type": "code",
   "execution_count": 36,
   "id": "e9afaca7-d210-4f5b-bd05-671886204b30",
   "metadata": {},
   "outputs": [
    {
     "data": {
      "image/png": "[encoded data removed]",
      "text/plain": [
       "<Figure size 800x500 with 1 Axes>"
      ]
     },
     "metadata": {},
     "output_type": "display_data"
    }
   ],
   "source": [
    "plt.figure(figsize=(8,5))\n",
    "sns.barplot(x=\"plan_tier_x\", y=\"is_churned\", color='indigo', data=df)\n",
    "plt.title(\"Churn Rate by Plan Type\")\n",
    "plt.xlabel(\"Plan Type\")\n",
    "plt.ylabel(\"Churn Rate (%)\")\n",
    "plt.show()"
   ]
  },
  {
   "cell_type": "markdown",
   "id": "ae68ef7d-3141-451d-af16-64d0975e7f41",
   "metadata": {},
   "source": [
    "**Insights :** Churn rate across different plan tier stands at around 80%. But, if considering slight differences, **Enterprise plan have highest churn rate** and Basic plan have the lowest."
   ]
  },
  {
   "cell_type": "markdown",
   "id": "6fc905d9-3142-4294-87e8-d6c0ece84745",
   "metadata": {},
   "source": [
    "## Conclusion"
   ]
  },
  {
   "cell_type": "markdown",
   "id": "9c7ceb2e-d7e4-4f04-8f3a-d93bf9c29ef5",
   "metadata": {},
   "source": [
    "The SaaS platform is experiencing an unsustainably **high churn rate (≈80%)**, leading to **revenue loss that is nearly 3x higher than active revenue**—a critical red flag for business sustainability. \n",
    "\n",
    "**The churn problem is multi-dimensional:** \n",
    "1. Weak trial-to-paid onboarding (75% churn in trials). \n",
    "2. Sharp drop-offs around milestone periods (200+ days, 800+ days). \n",
    "3. High downgrade-to-churn conversion. \n",
    "4. Churn across all plan tiers, with Enterprise contributing the most absolute revenue loss despite being the top generator.\n",
    "\n",
    "Long-term impact is clear: unless churn is tackled head-on, even the strong revenue contributions from the U.S. market and the Enterprise tier will erode. To counter this, the company must adopt a retention-first strategy, focused on three pillars:\n",
    "\n",
    "1. **Product & Customer Experience:**\n",
    "Reduce error rates below 1%, prioritize feature development around heavily used features (32, 31, 12), and strengthen trial onboarding to prevent early churn. Customer satisfaction is not strictly tied to resolution speed but needs proactive support, user-friendly pricing, and feature improvements.\n",
    "\n",
    "2. **Lifecycle Intervention:**\n",
    "Launch churn-prevention triggers at key lifecycle points—e.g., loyalty rewards/offers at the 200-day mark and engagement strategies post 800 days. Pricing optimization and upsell strategies should center on Enterprise customers but balanced with plans to reduce its disproportionately high churn.\n",
    "\n",
    "3. **Market & Segment Focus:**\n",
    "Double down on U.S.-specific strategies since it drives around 60% share of revenue, while diversifying into more stable industries like HealthTech (lowest churn). EdTech should be carefully managed or approached with tailored retention strategies.\n",
    "\n",
    "In short, the company cannot “grow out of” this churn problem—it must aggressively optimize onboarding, strengthen product stickiness, and implement lifecycle-driven retention tactics. Only by shifting from acquisition-led growth to retention-led growth can it stop bleeding revenue and build sustainable long-term profitability."
   ]
  },
  {
   "cell_type": "code",
   "execution_count": null,
   "id": "90ac3d14-6069-4eeb-a3ab-fdd6e01b926e",
   "metadata": {},
   "outputs": [],
   "source": []
  }
 ],
 "metadata": {
  "kernelspec": {
   "display_name": "Python 3 (ipykernel)",
   "language": "python",
   "name": "python3"
  },
  "language_info": {
   "codemirror_mode": {
    "name": "ipython",
    "version": 3
   },
   "file_extension": ".py",
   "mimetype": "text/x-python",
   "name": "python",
   "nbconvert_exporter": "python",
   "pygments_lexer": "ipython3",
   "version": "3.12.10"
  }
 },
 "nbformat": 4,
 "nbformat_minor": 5
}
